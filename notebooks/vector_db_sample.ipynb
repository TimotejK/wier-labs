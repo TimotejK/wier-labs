{
 "cells": [
  {
   "cell_type": "markdown",
   "metadata": {},
   "source": [
    "# Vector databases"
   ]
  },
  {
   "cell_type": "markdown",
   "metadata": {},
   "source": [
    "In this tutorial, we will explore vector databases in greater detail. Previously, we focused on smaller examples at the sentence level. Now, we will examine longer texts. For this tutorial, we will utilize [Wikipedia](https://www.wikipedia.org/) as a resource. The [Wikipedia library](https://pypi.org/project/wikipedia/) allows easy access to and utilization of Wikipedia articles, making it an excellent choice for our purposes. \n",
    "\n",
    "Our primary focus will be implementing strategies for dividing the text as well as calculating and storing embeddings in the vector database. Thereafter, we will query the vector database.\n"
   ]
  },
  {
   "cell_type": "markdown",
   "metadata": {},
   "source": [
    "## Prerequisites"
   ]
  },
  {
   "cell_type": "markdown",
   "metadata": {},
   "source": [
    "In this tutorial, we re-use the PostgreSQL database Docker image we have presented in the *introduction_to_vector_databases* notebook. If you have already tested the showcase example and have not deleted the container *postgres-wier* with the database, you can start the Docker container as indicated below.\n",
    "\n",
    "\n",
    "\n",
    "<img src=\"https://i.ibb.co/DgCxJWdQ/docker-demo.png\" alt=\"docker-demo\" border=\"0\">\n",
    "\n",
    "\n",
    "\n",
    "Otherwise, follow next steps. \n",
    "\n",
    "First, prepare a file *database.sql*. The script will create a table with two rows:\n",
    "\n",
    "``` sql\n",
    "CREATE SCHEMA IF NOT EXISTS showcase;\n",
    "\n",
    "CREATE TABLE showcase.counters (\n",
    "    counter_id integer  NOT NULL,\n",
    "    value integer NOT NULL,\n",
    "    CONSTRAINT pk_counters PRIMARY KEY ( counter_id )\n",
    " );\n",
    "\n",
    "INSERT INTO showcase.counters VALUES (1,0), (2,0);\n",
    "```\n",
    "\n",
    "Go to an empty folder and save the script into a subfolder named *init-scripts*. Create another empty folder named *pgdata*.\n",
    "\n",
    "We run the docker container using the following command. The command will name the container *postgresql-wier*, set username and password, map database files to folder *./pgdata* and initialization scripts to *./init-scripts*, map port 5432 to host machine (i.e. localhost) and run image *pgvector:pg16* in a detached mode. \n",
    "\n",
    "``` \n",
    "docker run --name postgresql-wier \\\n",
    "    -e POSTGRES_PASSWORD=SecretPassword \\\n",
    "    -e POSTGRES_USER=user \\\n",
    "    -e POSTGRES_DB=wier \\\n",
    "    -v $PWD/pgdata:/var/lib/postgresql/data \\\n",
    "    -v $PWD/init-scripts:/docker-entrypoint-initdb.d \\\n",
    "    -p 5432:5432 \\\n",
    "    -d pgvector/pgvector:pg16\n",
    "```\n",
    "\n",
    "If you use Command Prompt on Windows, the equivalent of the above command is as follows:\n",
    "\n",
    "``` \n",
    "docker run --name postgresql-wier ^\n",
    "    -e POSTGRES_PASSWORD=SecretPassword ^\n",
    "    -e POSTGRES_USER=user ^\n",
    "    -e POSTGRES_DB=wier ^\n",
    "    -v \"%CD%\\pgdata:/var/lib/postgresql/data\" ^\n",
    "    -v \"%CD%\\init-scripts:/docker-entrypoint-initdb.d\" ^\n",
    "    -p 5432:5432 ^\n",
    "    -d pgvector/pgvector:pg16\n",
    "```\n",
    "\n",
    "To check the container's logs, run `docker logs -f postgresql-wier`.\n"
   ]
  },
  {
   "cell_type": "markdown",
   "metadata": {},
   "source": [
    "## Getting started\n",
    "\n",
    "First, install the necessary dependencies."
   ]
  },
  {
   "cell_type": "code",
   "execution_count": 4,
   "metadata": {},
   "outputs": [
    {
     "name": "stdout",
     "output_type": "stream",
     "text": [
      "Requirement already satisfied: pgvector in c:\\users\\melanija.vezocnik\\appdata\\local\\programs\\python\\python310\\lib\\site-packages (0.3.6)\n",
      "Requirement already satisfied: numpy in c:\\users\\melanija.vezocnik\\appdata\\local\\programs\\python\\python310\\lib\\site-packages (from pgvector) (1.26.4)\n",
      "Note: you may need to restart the kernel to use updated packages.\n",
      "Requirement already satisfied: sentence_transformers in c:\\users\\melanija.vezocnik\\appdata\\local\\programs\\python\\python310\\lib\\site-packages (3.4.1)\n",
      "Requirement already satisfied: transformers<5.0.0,>=4.41.0 in c:\\users\\melanija.vezocnik\\appdata\\local\\programs\\python\\python310\\lib\\site-packages (from sentence_transformers) (4.48.3)\n",
      "Requirement already satisfied: tqdm in c:\\users\\melanija.vezocnik\\appdata\\local\\programs\\python\\python310\\lib\\site-packages (from sentence_transformers) (4.66.5)\n",
      "Requirement already satisfied: torch>=1.11.0 in c:\\users\\melanija.vezocnik\\appdata\\local\\programs\\python\\python310\\lib\\site-packages (from sentence_transformers) (2.4.1)\n",
      "Requirement already satisfied: scikit-learn in c:\\users\\melanija.vezocnik\\appdata\\local\\programs\\python\\python310\\lib\\site-packages (from sentence_transformers) (1.5.2)\n",
      "Requirement already satisfied: scipy in c:\\users\\melanija.vezocnik\\appdata\\local\\programs\\python\\python310\\lib\\site-packages (from sentence_transformers) (1.13.1)\n",
      "Requirement already satisfied: huggingface-hub>=0.20.0 in c:\\users\\melanija.vezocnik\\appdata\\local\\programs\\python\\python310\\lib\\site-packages (from sentence_transformers) (0.25.1)\n",
      "Requirement already satisfied: Pillow in c:\\users\\melanija.vezocnik\\appdata\\local\\programs\\python\\python310\\lib\\site-packages (from sentence_transformers) (10.4.0)\n",
      "Requirement already satisfied: filelock in c:\\users\\melanija.vezocnik\\appdata\\local\\programs\\python\\python310\\lib\\site-packages (from huggingface-hub>=0.20.0->sentence_transformers) (3.16.1)\n",
      "Requirement already satisfied: fsspec>=2023.5.0 in c:\\users\\melanija.vezocnik\\appdata\\local\\programs\\python\\python310\\lib\\site-packages (from huggingface-hub>=0.20.0->sentence_transformers) (2024.9.0)\n",
      "Requirement already satisfied: packaging>=20.9 in c:\\users\\melanija.vezocnik\\appdata\\local\\programs\\python\\python310\\lib\\site-packages (from huggingface-hub>=0.20.0->sentence_transformers) (24.1)\n",
      "Requirement already satisfied: pyyaml>=5.1 in c:\\users\\melanija.vezocnik\\appdata\\local\\programs\\python\\python310\\lib\\site-packages (from huggingface-hub>=0.20.0->sentence_transformers) (6.0.2)\n",
      "Requirement already satisfied: requests in c:\\users\\melanija.vezocnik\\appdata\\local\\programs\\python\\python310\\lib\\site-packages (from huggingface-hub>=0.20.0->sentence_transformers) (2.32.3)\n",
      "Requirement already satisfied: typing-extensions>=3.7.4.3 in c:\\users\\melanija.vezocnik\\appdata\\local\\programs\\python\\python310\\lib\\site-packages (from huggingface-hub>=0.20.0->sentence_transformers) (4.12.2)\n",
      "Requirement already satisfied: sympy in c:\\users\\melanija.vezocnik\\appdata\\local\\programs\\python\\python310\\lib\\site-packages (from torch>=1.11.0->sentence_transformers) (1.13.3)\n",
      "Requirement already satisfied: networkx in c:\\users\\melanija.vezocnik\\appdata\\local\\programs\\python\\python310\\lib\\site-packages (from torch>=1.11.0->sentence_transformers) (3.3)\n",
      "Requirement already satisfied: jinja2 in c:\\users\\melanija.vezocnik\\appdata\\local\\programs\\python\\python310\\lib\\site-packages (from torch>=1.11.0->sentence_transformers) (3.1.4)\n",
      "Requirement already satisfied: colorama in c:\\users\\melanija.vezocnik\\appdata\\local\\programs\\python\\python310\\lib\\site-packages (from tqdm->sentence_transformers) (0.4.6)\n",
      "Requirement already satisfied: numpy>=1.17 in c:\\users\\melanija.vezocnik\\appdata\\local\\programs\\python\\python310\\lib\\site-packages (from transformers<5.0.0,>=4.41.0->sentence_transformers) (1.26.4)\n",
      "Requirement already satisfied: regex!=2019.12.17 in c:\\users\\melanija.vezocnik\\appdata\\local\\programs\\python\\python310\\lib\\site-packages (from transformers<5.0.0,>=4.41.0->sentence_transformers) (2024.9.11)\n",
      "Requirement already satisfied: tokenizers<0.22,>=0.21 in c:\\users\\melanija.vezocnik\\appdata\\local\\programs\\python\\python310\\lib\\site-packages (from transformers<5.0.0,>=4.41.0->sentence_transformers) (0.21.0)\n",
      "Requirement already satisfied: safetensors>=0.4.1 in c:\\users\\melanija.vezocnik\\appdata\\local\\programs\\python\\python310\\lib\\site-packages (from transformers<5.0.0,>=4.41.0->sentence_transformers) (0.5.2)\n",
      "Requirement already satisfied: joblib>=1.2.0 in c:\\users\\melanija.vezocnik\\appdata\\local\\programs\\python\\python310\\lib\\site-packages (from scikit-learn->sentence_transformers) (1.4.2)\n",
      "Requirement already satisfied: threadpoolctl>=3.1.0 in c:\\users\\melanija.vezocnik\\appdata\\local\\programs\\python\\python310\\lib\\site-packages (from scikit-learn->sentence_transformers) (3.5.0)\n",
      "Requirement already satisfied: MarkupSafe>=2.0 in c:\\users\\melanija.vezocnik\\appdata\\local\\programs\\python\\python310\\lib\\site-packages (from jinja2->torch>=1.11.0->sentence_transformers) (2.1.5)\n",
      "Requirement already satisfied: charset-normalizer<4,>=2 in c:\\users\\melanija.vezocnik\\appdata\\local\\programs\\python\\python310\\lib\\site-packages (from requests->huggingface-hub>=0.20.0->sentence_transformers) (3.3.2)\n",
      "Requirement already satisfied: idna<4,>=2.5 in c:\\users\\melanija.vezocnik\\appdata\\local\\programs\\python\\python310\\lib\\site-packages (from requests->huggingface-hub>=0.20.0->sentence_transformers) (3.10)\n",
      "Requirement already satisfied: urllib3<3,>=1.21.1 in c:\\users\\melanija.vezocnik\\appdata\\local\\programs\\python\\python310\\lib\\site-packages (from requests->huggingface-hub>=0.20.0->sentence_transformers) (2.2.3)\n",
      "Requirement already satisfied: certifi>=2017.4.17 in c:\\users\\melanija.vezocnik\\appdata\\local\\programs\\python\\python310\\lib\\site-packages (from requests->huggingface-hub>=0.20.0->sentence_transformers) (2024.8.30)\n",
      "Requirement already satisfied: mpmath<1.4,>=1.1.0 in c:\\users\\melanija.vezocnik\\appdata\\local\\programs\\python\\python310\\lib\\site-packages (from sympy->torch>=1.11.0->sentence_transformers) (1.3.0)\n",
      "Note: you may need to restart the kernel to use updated packages.\n",
      "Requirement already satisfied: numpy in c:\\users\\melanija.vezocnik\\appdata\\local\\programs\\python\\python310\\lib\\site-packages (1.26.4)\n",
      "Note: you may need to restart the kernel to use updated packages.\n",
      "Requirement already satisfied: nltk in c:\\users\\melanija.vezocnik\\appdata\\local\\programs\\python\\python310\\lib\\site-packages (3.9.1)\n",
      "Requirement already satisfied: click in c:\\users\\melanija.vezocnik\\appdata\\local\\programs\\python\\python310\\lib\\site-packages (from nltk) (8.1.8)\n",
      "Requirement already satisfied: joblib in c:\\users\\melanija.vezocnik\\appdata\\local\\programs\\python\\python310\\lib\\site-packages (from nltk) (1.4.2)\n",
      "Requirement already satisfied: regex>=2021.8.3 in c:\\users\\melanija.vezocnik\\appdata\\local\\programs\\python\\python310\\lib\\site-packages (from nltk) (2024.9.11)\n",
      "Requirement already satisfied: tqdm in c:\\users\\melanija.vezocnik\\appdata\\local\\programs\\python\\python310\\lib\\site-packages (from nltk) (4.66.5)\n",
      "Requirement already satisfied: colorama in c:\\users\\melanija.vezocnik\\appdata\\local\\programs\\python\\python310\\lib\\site-packages (from click->nltk) (0.4.6)\n",
      "Note: you may need to restart the kernel to use updated packages.\n",
      "Requirement already satisfied: wikipedia in c:\\users\\melanija.vezocnik\\appdata\\local\\programs\\python\\python310\\lib\\site-packages (1.4.0)\n",
      "Requirement already satisfied: beautifulsoup4 in c:\\users\\melanija.vezocnik\\appdata\\local\\programs\\python\\python310\\lib\\site-packages (from wikipedia) (4.13.3)\n",
      "Requirement already satisfied: requests<3.0.0,>=2.0.0 in c:\\users\\melanija.vezocnik\\appdata\\local\\programs\\python\\python310\\lib\\site-packages (from wikipedia) (2.32.3)\n",
      "Requirement already satisfied: charset-normalizer<4,>=2 in c:\\users\\melanija.vezocnik\\appdata\\local\\programs\\python\\python310\\lib\\site-packages (from requests<3.0.0,>=2.0.0->wikipedia) (3.3.2)\n",
      "Requirement already satisfied: idna<4,>=2.5 in c:\\users\\melanija.vezocnik\\appdata\\local\\programs\\python\\python310\\lib\\site-packages (from requests<3.0.0,>=2.0.0->wikipedia) (3.10)\n",
      "Requirement already satisfied: urllib3<3,>=1.21.1 in c:\\users\\melanija.vezocnik\\appdata\\local\\programs\\python\\python310\\lib\\site-packages (from requests<3.0.0,>=2.0.0->wikipedia) (2.2.3)\n",
      "Requirement already satisfied: certifi>=2017.4.17 in c:\\users\\melanija.vezocnik\\appdata\\local\\programs\\python\\python310\\lib\\site-packages (from requests<3.0.0,>=2.0.0->wikipedia) (2024.8.30)\n",
      "Requirement already satisfied: soupsieve>1.2 in c:\\users\\melanija.vezocnik\\appdata\\local\\programs\\python\\python310\\lib\\site-packages (from beautifulsoup4->wikipedia) (2.6)\n",
      "Requirement already satisfied: typing-extensions>=4.0.0 in c:\\users\\melanija.vezocnik\\appdata\\local\\programs\\python\\python310\\lib\\site-packages (from beautifulsoup4->wikipedia) (4.12.2)\n",
      "Note: you may need to restart the kernel to use updated packages.\n",
      "Requirement already satisfied: beautifulsoup4 in c:\\users\\melanija.vezocnik\\appdata\\local\\programs\\python\\python310\\lib\\site-packages (4.13.3)\n",
      "Requirement already satisfied: soupsieve>1.2 in c:\\users\\melanija.vezocnik\\appdata\\local\\programs\\python\\python310\\lib\\site-packages (from beautifulsoup4) (2.6)\n",
      "Requirement already satisfied: typing-extensions>=4.0.0 in c:\\users\\melanija.vezocnik\\appdata\\local\\programs\\python\\python310\\lib\\site-packages (from beautifulsoup4) (4.12.2)\n",
      "Note: you may need to restart the kernel to use updated packages.\n",
      "Requirement already satisfied: stanza in c:\\users\\melanija.vezocnik\\appdata\\local\\programs\\python\\python310\\lib\\site-packages (1.10.1)\n",
      "Requirement already satisfied: emoji in c:\\users\\melanija.vezocnik\\appdata\\local\\programs\\python\\python310\\lib\\site-packages (from stanza) (2.14.1)\n",
      "Requirement already satisfied: numpy in c:\\users\\melanija.vezocnik\\appdata\\local\\programs\\python\\python310\\lib\\site-packages (from stanza) (1.26.4)\n",
      "Requirement already satisfied: protobuf>=3.15.0 in c:\\users\\melanija.vezocnik\\appdata\\local\\programs\\python\\python310\\lib\\site-packages (from stanza) (6.30.1)\n",
      "Requirement already satisfied: requests in c:\\users\\melanija.vezocnik\\appdata\\local\\programs\\python\\python310\\lib\\site-packages (from stanza) (2.32.3)\n",
      "Requirement already satisfied: networkx in c:\\users\\melanija.vezocnik\\appdata\\local\\programs\\python\\python310\\lib\\site-packages (from stanza) (3.3)\n",
      "Requirement already satisfied: tomli in c:\\users\\melanija.vezocnik\\appdata\\local\\programs\\python\\python310\\lib\\site-packages (from stanza) (2.2.1)\n",
      "Requirement already satisfied: torch>=1.3.0 in c:\\users\\melanija.vezocnik\\appdata\\local\\programs\\python\\python310\\lib\\site-packages (from stanza) (2.4.1)\n",
      "Requirement already satisfied: tqdm in c:\\users\\melanija.vezocnik\\appdata\\local\\programs\\python\\python310\\lib\\site-packages (from stanza) (4.66.5)\n",
      "Requirement already satisfied: filelock in c:\\users\\melanija.vezocnik\\appdata\\local\\programs\\python\\python310\\lib\\site-packages (from torch>=1.3.0->stanza) (3.16.1)\n",
      "Requirement already satisfied: typing-extensions>=4.8.0 in c:\\users\\melanija.vezocnik\\appdata\\local\\programs\\python\\python310\\lib\\site-packages (from torch>=1.3.0->stanza) (4.12.2)\n",
      "Requirement already satisfied: sympy in c:\\users\\melanija.vezocnik\\appdata\\local\\programs\\python\\python310\\lib\\site-packages (from torch>=1.3.0->stanza) (1.13.3)\n",
      "Requirement already satisfied: jinja2 in c:\\users\\melanija.vezocnik\\appdata\\local\\programs\\python\\python310\\lib\\site-packages (from torch>=1.3.0->stanza) (3.1.4)\n",
      "Requirement already satisfied: fsspec in c:\\users\\melanija.vezocnik\\appdata\\local\\programs\\python\\python310\\lib\\site-packages (from torch>=1.3.0->stanza) (2024.9.0)\n",
      "Requirement already satisfied: charset-normalizer<4,>=2 in c:\\users\\melanija.vezocnik\\appdata\\local\\programs\\python\\python310\\lib\\site-packages (from requests->stanza) (3.3.2)\n",
      "Requirement already satisfied: idna<4,>=2.5 in c:\\users\\melanija.vezocnik\\appdata\\local\\programs\\python\\python310\\lib\\site-packages (from requests->stanza) (3.10)\n",
      "Requirement already satisfied: urllib3<3,>=1.21.1 in c:\\users\\melanija.vezocnik\\appdata\\local\\programs\\python\\python310\\lib\\site-packages (from requests->stanza) (2.2.3)\n",
      "Requirement already satisfied: certifi>=2017.4.17 in c:\\users\\melanija.vezocnik\\appdata\\local\\programs\\python\\python310\\lib\\site-packages (from requests->stanza) (2024.8.30)\n",
      "Requirement already satisfied: colorama in c:\\users\\melanija.vezocnik\\appdata\\local\\programs\\python\\python310\\lib\\site-packages (from tqdm->stanza) (0.4.6)\n",
      "Requirement already satisfied: MarkupSafe>=2.0 in c:\\users\\melanija.vezocnik\\appdata\\local\\programs\\python\\python310\\lib\\site-packages (from jinja2->torch>=1.3.0->stanza) (2.1.5)\n",
      "Requirement already satisfied: mpmath<1.4,>=1.1.0 in c:\\users\\melanija.vezocnik\\appdata\\local\\programs\\python\\python310\\lib\\site-packages (from sympy->torch>=1.3.0->stanza) (1.3.0)\n",
      "Note: you may need to restart the kernel to use updated packages.\n"
     ]
    }
   ],
   "source": [
    "%pip install pgvector\n",
    "%pip install sentence_transformers\n",
    "%pip install numpy\n",
    "%pip install nltk\n",
    "%pip install wikipedia\n",
    "%pip install beautifulsoup4\n",
    "%pip install stanza"
   ]
  },
  {
   "cell_type": "markdown",
   "metadata": {},
   "source": [
    "If you have already enabled the pgvector extension in the PostgreSQL database, you do not have to enable the pgvector extension again.  "
   ]
  },
  {
   "cell_type": "code",
   "execution_count": 5,
   "metadata": {},
   "outputs": [],
   "source": [
    "from pgvector.psycopg import register_vector\n",
    "import psycopg\n",
    "\n",
    "#connect to db\n",
    "conn = psycopg.connect(host=\"localhost\", dbname='wier', autocommit=True, password='SecretPassword', user='user')\n",
    "\n",
    "#enable `vector` extension if not already enabled\n",
    "conn.execute('CREATE EXTENSION IF NOT EXISTS vector')\n",
    "register_vector(conn)\n",
    "conn.close()"
   ]
  },
  {
   "cell_type": "markdown",
   "metadata": {},
   "source": [
    "## Retrieval of articles from Wikipedia"
   ]
  },
  {
   "cell_type": "markdown",
   "metadata": {},
   "source": [
    "We are now ready to begin our work. First, if the tables we need for this tutorial already exist, we will delete them. Then, we create the table showcase.wiki_articles with columns:\n",
    "- *id*: primary key\n",
    "- *topic*: topic of the Wikipedia page\n",
    "- *content*: content of the Wikipedia page for the topic "
   ]
  },
  {
   "cell_type": "code",
   "execution_count": 6,
   "metadata": {},
   "outputs": [],
   "source": [
    "#connect to the db\n",
    "conn = psycopg.connect(host=\"localhost\", dbname='wier', autocommit=True, password='SecretPassword', user='user')\n",
    "\n",
    "#delete tables from the db if they already exist\n",
    "conn.execute('DROP TABLE IF EXISTS showcase.wiki_chunks_sentences')\n",
    "conn.execute('DROP TABLE IF EXISTS showcase.wiki_chunks_fixed_length')\n",
    "conn.execute('DROP TABLE IF EXISTS showcase.wiki_articles')\n",
    "\n",
    "#create table wiki_articles with columns id, topic and content\n",
    "conn.execute('CREATE TABLE showcase.wiki_articles (id bigserial PRIMARY KEY, topic text, content text)')\n",
    "\n",
    "conn.close()"
   ]
  },
  {
   "cell_type": "markdown",
   "metadata": {},
   "source": [
    "In the first step, we get some Wikipedia articles by means of the Wikipedia library for Python for the selected topics. For demonstration purposes, we use the Slovenian language. Replace \"sl\" with \"en\" in the setup to obtain articles in English."
   ]
  },
  {
   "cell_type": "code",
   "execution_count": 7,
   "metadata": {},
   "outputs": [
    {
     "name": "stdout",
     "output_type": "stream",
     "text": [
      "Fetching content of the Wikipedia article for the topic: Albert Einstein\n",
      "URL of the page: https://sl.wikipedia.org/wiki/Albert_Einstein\n",
      "Fetching content of the Wikipedia article for the topic: Taylor Swift\n",
      "URL of the page: https://sl.wikipedia.org/wiki/Taylor_Swift\n",
      "Fetching content of the Wikipedia article for the topic: Harry Potter\n",
      "URL of the page: https://sl.wikipedia.org/wiki/Harry_Potter\n",
      "Fetching content of the Wikipedia article for the topic: J. K. Rowling\n",
      "URL of the page: https://sl.wikipedia.org/wiki/J._K._Rowling\n",
      "Fetching content of the Wikipedia article for the topic: Magic Johnson\n",
      "URL of the page: https://sl.wikipedia.org/wiki/Magic_Johnson\n",
      "Fetching content of the Wikipedia article for the topic: Luka Dončić\n",
      "URL of the page: https://sl.wikipedia.org/wiki/Luka_Don%C4%8Di%C4%87\n",
      "Fetching content of the Wikipedia article for the topic: Peter Prevc\n",
      "URL of the page: https://sl.wikipedia.org/wiki/Peter_Prevc\n",
      "Fetching content of the Wikipedia article for the topic: London\n",
      "URL of the page: https://sl.wikipedia.org/wiki/London\n",
      "Fetching content of the Wikipedia article for the topic: Berlin\n",
      "URL of the page: https://sl.wikipedia.org/wiki/Berlin\n",
      "Fetching content of the Wikipedia article for the topic: Ljubljana\n",
      "URL of the page: https://sl.wikipedia.org/wiki/Ljubljana\n",
      "Fetching content of the Wikipedia article for the topic: Bitcoin\n",
      "URL of the page: https://sl.wikipedia.org/wiki/Bitcoin\n",
      "Fetching content of the Wikipedia article for the topic: Jupiter\n",
      "URL of the page: https://sl.wikipedia.org/wiki/Jupiter\n",
      "Fetching content of the Wikipedia article for the topic: Twitter\n",
      "URL of the page: https://sl.wikipedia.org/wiki/Twitter\n"
     ]
    }
   ],
   "source": [
    "import wikipediaapi\n",
    "\n",
    "# 1. Wikipedia API setup\n",
    "USER_AGENT = \"MySuperIEPSWikiBot/1.0\" #define user agent\n",
    "wiki_wiki = wikipediaapi.Wikipedia(user_agent=USER_AGENT, #user agent\n",
    "                                   language=\"sl\", #define the language. Replace \"sl\" with \"en\" to obtain articles in English.\n",
    "                                   extract_format=wikipediaapi.ExtractFormat.WIKI)#to get the the HTML content use .WIKI instead of .WIKI \n",
    "\n",
    "# 2. Define topics of the articles for retrieval\n",
    "topics = [\"Albert Einstein\", \"Taylor Swift\", \"Harry Potter\", \"J. K. Rowling\", \n",
    "          \"Magic Johnson\", \"Luka Dončić\", \"Peter Prevc\", \n",
    "          \"London\", \"Berlin\", \"Ljubljana\",  \n",
    "          \"Bitcoin\", \"Jupiter\", \"Twitter\" \n",
    "          ]\n",
    "\n",
    "# 3. Fetch Wikipedia articles and store them in the db\n",
    "conn = psycopg.connect(host=\"localhost\", dbname='wier', autocommit=True, password='SecretPassword', user='user')\n",
    "cur = conn.cursor() \n",
    "for topic in topics:\n",
    "    print('Fetching content of the Wikipedia article for the topic: ' + topic)\n",
    "    page = wiki_wiki.page(topic)\n",
    "    if page.exists():\n",
    "        print(\"URL of the page: \" + page.fullurl)\n",
    "        text = page.text # Get full content\n",
    "        cur.execute('INSERT INTO showcase.wiki_articles (topic, content) VALUES (%s, %s)', (topic, text))\n",
    "    else:\n",
    "        print(\"No page found for the topic \" + topic)\n",
    "cur.close()\n",
    "conn.close() "
   ]
  },
  {
   "cell_type": "markdown",
   "metadata": {},
   "source": [
    "## Dividing the content, calculating and storing embeddings in vector database"
   ]
  },
  {
   "cell_type": "markdown",
   "metadata": {},
   "source": [
    "In the next step, you have to extract the relevant content from the web page. It is of utmost importance to consider which content is relevant to your selected domain when doing Programming Assignment 2 (PA2). Also of note is that you will likely deal with lengthy text, which you will have to clean and divide into smaller portions, as most models for calculating embeddings have limitations on the number of words they can process at once.\n",
    "\n",
    "As we have already downloaded the plain text of the articles, we skip this step of extracting relevant content and focus on dividing the text. There are [several approaches](https://www.analyticsvidhya.com/blog/2024/10/chunking-techniques-to-build-exceptional-rag-systems/) on how to divide text, e.g.:\n",
    "\n",
    "1. Divide text into fixed-size segments.\n",
    "2. Vary the sizes of text segments when dividing the text.\n",
    "3. Sliding window.\n",
    "4. ...\n",
    "\n",
    "For the PA2, you will have to select the most appropriate strategy for dividing text and list its advantages and disadvantages. It is often necessary to conduct some testing to determine what works best. Without a proper approach, we risk overlooking important information or providing incomplete or out-of-context retrieved segments. Some of the key factors to consider when dividing the text into smaller portions are the size of segments and context preservation.\n",
    "\n",
    "In this tutorial, we test two strategies. The first strategy divides the text into fixed-length segments, whereas the second strategy divides the text into text segments comprising sentences. The obtained text segment does not exceed the specified word count limit. We use the [nltk library](https://www.nltk.org/index.html)."
   ]
  },
  {
   "cell_type": "code",
   "execution_count": 8,
   "metadata": {},
   "outputs": [
    {
     "name": "stderr",
     "output_type": "stream",
     "text": [
      "[nltk_data] Downloading package punkt to\n",
      "[nltk_data]     C:\\Users\\melanija.vezocnik\\AppData\\Roaming\\nltk_data..\n",
      "[nltk_data]     .\n",
      "[nltk_data]   Package punkt is already up-to-date!\n",
      "[nltk_data] Downloading package punkt_tab to\n",
      "[nltk_data]     C:\\Users\\melanija.vezocnik\\AppData\\Roaming\\nltk_data..\n",
      "[nltk_data]     .\n",
      "[nltk_data]   Package punkt_tab is already up-to-date!\n"
     ]
    }
   ],
   "source": [
    "import re\n",
    "import nltk\n",
    "import textwrap\n",
    "from nltk.tokenize import sent_tokenize\n",
    "\n",
    "# Download NLTK sentence tokenizer if not already installed\n",
    "nltk.download(\"punkt\")\n",
    "nltk.download(\"punkt_tab\")\n",
    "\n",
    "def chunk_fixed_length(text, chunk_size=50):\n",
    "    \"\"\"Fixed length chunking.\"\"\"\n",
    "    return [text[i:i+chunk_size] for i in range(0, len(text), chunk_size)]\n",
    "\n",
    "\n",
    "def chunk_segments(text, max_words=256):\n",
    "    \"\"\"Splits text into sentence-based chunks with a max word count limit.\"\"\"\n",
    "    sentences = sent_tokenize(text)  # Split into sentences\n",
    "    chunks, current_chunk = [], []\n",
    "    current_length = 0\n",
    "    \n",
    "    for sentence in sentences:\n",
    "        words = sentence.split()\n",
    "        if current_length + len(words) > max_words:\n",
    "            chunks.append(\" \".join(current_chunk))  # Save current chunk\n",
    "            current_chunk, current_length = [], 0  # Reset chunk\n",
    "        current_chunk.append(sentence)\n",
    "        current_length += len(words)\n",
    "    \n",
    "    if current_chunk:\n",
    "        chunks.append(\" \".join(current_chunk))  # Add last chunk\n",
    "\n",
    "    return chunks"
   ]
  },
  {
   "cell_type": "markdown",
   "metadata": {},
   "source": [
    "Below are two functions we use in this tutorial. The first one obtaines Wikipedia articles from the database, whereas the second function creates two tables (showcase.wiki_chunks_fixed_length, showcase.wiki_chunks_sentences) for storing embeddings using different strategies. Both tables have columns as follows:\n",
    "- *chunk_id*: primary key\n",
    "- *chunk*: text segment\n",
    "- *embeddings*: embedding for the text segment\n",
    "- *fk_pageid*: id of the page that includes the text segment and foreign key"
   ]
  },
  {
   "cell_type": "code",
   "execution_count": 9,
   "metadata": {},
   "outputs": [],
   "source": [
    "def get_wiki_articles():\n",
    "    \"\"\"Get Wikipedia articles from the table showcase.wiki_articles.\"\"\"\n",
    "\n",
    "    wiki_articles = [] \n",
    "\n",
    "    conn = psycopg.connect(host=\"localhost\", dbname='wier', autocommit=True, password='SecretPassword', user='user')\n",
    "    cur = conn.cursor()\n",
    "    cur.execute(\"SELECT id, topic, content FROM showcase.wiki_articles\")\n",
    "    for id, topic, content in cur.fetchall():\n",
    "        wiki_articles.append((id, topic, content))\n",
    "    cur.close()\n",
    "    conn.close()\n",
    "\n",
    "    return wiki_articles\n",
    "\n",
    "\n",
    "def create_tables():\n",
    "    \"\"\"Create tables showcase.wiki_chunks_fixed_length and showcase.wiki_chunks_sentences.\"\"\"\n",
    "    conn = psycopg.connect(host=\"localhost\", dbname='wier', autocommit=True, password='SecretPassword', user='user')\n",
    "    \n",
    "    conn.execute('DROP TABLE IF EXISTS showcase.wiki_chunks_fixed_length')\n",
    "    conn.execute('DROP TABLE IF EXISTS showcase.wiki_chunks_sentences')\n",
    "    \n",
    "    conn.execute('CREATE TABLE showcase.wiki_chunks_fixed_length (chunk_id bigserial PRIMARY KEY, chunk text, embedding vector(768), fk_pageid bigserial)')\n",
    "    conn.execute('CREATE TABLE showcase.wiki_chunks_sentences (chunk_id bigserial PRIMARY KEY, chunk text, embedding vector(768), fk_pageid bigserial)')\n",
    "    conn.execute('ALTER TABLE showcase.wiki_chunks_fixed_length ADD CONSTRAINT fk_pageid FOREIGN KEY ( fk_pageid ) REFERENCES showcase.wiki_articles( id ) ON DELETE RESTRICT;')\n",
    "    conn.execute('ALTER TABLE showcase.wiki_chunks_sentences ADD CONSTRAINT fk_pageid FOREIGN KEY ( fk_pageid ) REFERENCES showcase.wiki_articles( id ) ON DELETE RESTRICT;')\n",
    "\n",
    "    conn.close()"
   ]
  },
  {
   "cell_type": "markdown",
   "metadata": {},
   "source": [
    "Next, we calculate embeddings using the two strategies we defined above and store them in the vector database. We use the embedding model LaBSE of the Sentence Transformer library to calculate embeddings. One page worth exploring for the model selection is the [Hugging Face web page](https://huggingface.co/models)."
   ]
  },
  {
   "cell_type": "code",
   "execution_count": 10,
   "metadata": {},
   "outputs": [
    {
     "name": "stderr",
     "output_type": "stream",
     "text": [
      "c:\\Users\\melanija.vezocnik\\AppData\\Local\\Programs\\Python\\Python310\\lib\\site-packages\\tqdm\\auto.py:21: TqdmWarning: IProgress not found. Please update jupyter and ipywidgets. See https://ipywidgets.readthedocs.io/en/stable/user_install.html\n",
      "  from .autonotebook import tqdm as notebook_tqdm\n"
     ]
    }
   ],
   "source": [
    "from sentence_transformers import SentenceTransformer\n",
    "\n",
    "wiki_articles = get_wiki_articles()\n",
    "create_tables()\n",
    "model = SentenceTransformer('sentence-transformers/LaBSE')\n",
    "\n",
    "conn = psycopg.connect(host=\"localhost\", dbname='wier', autocommit=True, password='SecretPassword', user='user')\n",
    "cur = conn.cursor() \n",
    "\n",
    "for article in wiki_articles:\n",
    "    id = article[0]\n",
    "    topic = article[1]\n",
    "    wiki_content = article[2]\n",
    "\n",
    "    #segment wiki content\n",
    "    chunks1 = chunk_fixed_length(wiki_content)\n",
    "    chunks2 = chunk_segments(wiki_content)\n",
    "\n",
    "    #calculate embeddings for each chunk and store them into db\n",
    "    for single_chunk in chunks1:\n",
    "        #print(single_chunk)\n",
    "        embedding = model.encode(single_chunk).tolist()\n",
    "        cur.execute('INSERT INTO showcase.wiki_chunks_fixed_length (chunk, embedding, fk_pageid) VALUES (%s, %s, %s)', (single_chunk, embedding, id))\n",
    "\n",
    "    for single_chunk in chunks2:\n",
    "        embedding = model.encode(single_chunk).tolist()\n",
    "        cur.execute('INSERT INTO showcase.wiki_chunks_sentences (chunk, embedding, fk_pageid) VALUES (%s, %s, %s)', (single_chunk, embedding, id))\n",
    "\n",
    "cur.close()\n",
    "conn.close()"
   ]
  },
  {
   "cell_type": "markdown",
   "metadata": {},
   "source": [
    "## Querying "
   ]
  },
  {
   "cell_type": "markdown",
   "metadata": {},
   "source": [
    "By default, *pgvector* performs an exact search when querying the database. Adding [index](https://github.com/pgvector/pgvector?tab=readme-ov-file#indexing) enables us to use approximate nearest neighbour (ANN) search. The *pgvector* supports two indexes, HSNW and IVFFlat. Compared to the IVFFlat, it achieves better performance. For this reason, it has been selected for this tutorial. When defining the HSNW index, you must add an index for each distance function you want to use for querying. "
   ]
  },
  {
   "cell_type": "code",
   "execution_count": 11,
   "metadata": {},
   "outputs": [],
   "source": [
    "conn = psycopg.connect(host=\"localhost\", dbname='wier', autocommit=True, password='SecretPassword', user='user')\n",
    "conn.execute('CREATE INDEX ON showcase.wiki_chunks_fixed_length USING hnsw (embedding vector_cosine_ops) WITH (m = 16, ef_construction = 64);')\n",
    "conn.execute('CREATE INDEX ON showcase.wiki_chunks_sentences USING hnsw (embedding vector_cosine_ops) WITH (m = 16, ef_construction = 64);')\n",
    "conn.close()"
   ]
  },
  {
   "cell_type": "markdown",
   "metadata": {},
   "source": [
    "Below is the function *query_db_cosine* we use to retrieve the top 5 most similar sentences from a pgvector database based on the cosine distance."
   ]
  },
  {
   "cell_type": "code",
   "execution_count": 20,
   "metadata": {},
   "outputs": [],
   "source": [
    "#query using cosine distance\n",
    "def query_db_cosine(query, model_name, table_name):\n",
    "    \"\"\"\n",
    "    The query_db_cosine function retrieves the top 5 most similar sentences from a pgvector database based on cosine distance. \n",
    "    It uses a pre-trained SentenceTransformer model to encode the input query and then searches for the closest embeddings stored in the database.\n",
    "\n",
    "    Parameters\n",
    "    - query (str): The input text query to be searched.\n",
    "    - model_name (str): The name of the SentenceTransformer model to be used for encoding the query.\n",
    "    - table_name (str): The name of the table containing the stored sentence embeddings. Possible options are showcase.vector_demo and showcase.vector_demo2\n",
    "    \"\"\"\n",
    "    \n",
    "    #download the model\n",
    "    model = SentenceTransformer(model_name)\n",
    "\n",
    "    #calculate embedding for the query\n",
    "    query_embedding = model.encode(query).tolist()  \n",
    "\n",
    "    conn = psycopg.connect(host=\"localhost\", dbname='wier', autocommit=True, password='SecretPassword', user='user')\n",
    "    cur = conn.cursor() \n",
    "\n",
    "    # execute the query to fetch the top 5 most similar sentences based on cosine distance\n",
    "    result = cur.execute(\n",
    "        'SELECT chunk, 1 - (embedding <=> %s::vector) AS similarity '\n",
    "        'FROM ' + table_name + ' ORDER BY similarity DESC LIMIT 5',\n",
    "        (query_embedding,)  # pass the embedding twice, once for ordering and once for calculation\n",
    "    ).fetchall()\n",
    "    cur.close()\n",
    "    conn.close()\n",
    "    return result"
   ]
  },
  {
   "cell_type": "markdown",
   "metadata": {},
   "source": [
    "Next, we will try some examples."
   ]
  },
  {
   "cell_type": "markdown",
   "metadata": {},
   "source": [
    "### Example 1"
   ]
  },
  {
   "cell_type": "code",
   "execution_count": 34,
   "metadata": {},
   "outputs": [
    {
     "data": {
      "text/plain": [
       "[(' založba Mladinska knjiga)\\n\\nFilmi\\nHarry Potter - K', 0.8032018898963397),\n",
       " (' ljubitelje Harry Potter knjig v Sloveniji.', 0.8031060456303972),\n",
       " ('brana dela:\\n\\nHarry Potter in kamen modrosti (Harry', 0.7810105579188054),\n",
       " (' (2010)\\nHarry Potter - Svetinje smrti 2. del (2011', 0.7777845031683326),\n",
       " ('4)\\nHarry Potter - Ognjeni kelih (2005)\\nHarry Potte', 0.7694623928941723)]"
      ]
     },
     "execution_count": 34,
     "metadata": {},
     "output_type": "execute_result"
    }
   ],
   "source": [
    "query = 'Kdo je Harry Potter?'  #Who is Harry Potter?\n",
    "model_name = 'sentence-transformers/LaBSE'\n",
    "table_name = 'showcase.wiki_chunks_fixed_length'\n",
    "\n",
    "query_db_cosine(query, model_name, table_name)"
   ]
  },
  {
   "cell_type": "code",
   "execution_count": 35,
   "metadata": {},
   "outputs": [
    {
     "data": {
      "text/plain": [
       "[('Harry Potter je fantazijska pripoved v sedmih knjigah pisateljice J. K. Rowling. Prva knjiga je bila izdana leta 1997, zadnja pa leta 2016. Po seriji je produkcijska hiša Warner Bros posnela tudi filme, Harry Potter in Svetinje smrti je razdeljen na dva dela. Filma o Otroku prekletstva pa niso posneli, ampak si lahko ogledamo predstavo. Knjige o Harryju Potterju so doživele velikanski uspeh, po svetu je bilo prodanih več kot 800 milijonov knjig. V Sloveniji je pri založbi EPTA izšlo prvih pet knjig, pri Mladinski knjigi, ki je od leta 2007 novi slovenski založnik Harryja Potterja, pa ponatisi prevodov prvih petih knjig in prevoda šeste ter sedme.',\n",
       "  0.6537605913734789),\n",
       " (\"Zgodbe\\nHarry Potter in kamen modrosti (Harry Potter and the Philosopher's Stone) (1997, slovenski prevod 1999, prevajalec Jakob J. Kenda)\\nHarry Potter in dvorana skrivnosti (Harry Potter and the Chamber of Secrets) (1998, slovenski prevod 2000, prevajalec Jakob J. Kenda)\\nHarry Potter in jetnik iz Azkabana (Harry Potter and the Prisoner of Azkaban) (1999, slovenski prevod 2000, prevajalec Jakob J. Kenda)\\nHarry Potter in ognjeni kelih (Harry Potter and the Goblet of Fire) (2000, slovenski prevod 2001, prevajalec Jakob J. Kenda)\\nHarry Potter in Feniksov red (Harry Potter and the Order of the Phoenix) (2003, slovenski prevod 2003, prevajalec Jakob J. Kenda)\\nHarry Potter in Princ mešane krvi (Harry Potter and the Half-Blood Prince) (julij 2005, slovenski prevod 2006, prevajalec Branko Gradišnik (pod naslovom Polkrvni Princ), ponoven prevod - Princ mešane krvi (jesen 2008, prevajalec Jakob J. Kenda)\\nHarry Potter in svetinje smrti (Harry Potter and the Deathly Hallows) (izid originala: 21.7.2007, izid prevoda: 16. februar 2008, prevajalec Jakob J. Kenda, založba Mladinska knjiga)\\nHarry Potter in otrok prekletstva (Harry Potter and the Cursed Child) (izid originala: 31. 7.\",\n",
       "  0.6372497867718279),\n",
       " ('2016, izid prevoda: 23.11.2016, prevajalec: Jakob J. Kenda, založba Mladinska knjiga)\\n\\nFilmi\\nHarry Potter - Kamen modrosti (2001)\\nHarry Potter - Dvorana skrivnosti (2002)\\nHarry Potter - Jetnik iz Azkabana (2004)\\nHarry Potter - Ognjeni kelih (2005)\\nHarry Potter - Feniksov red (2007)\\nHarry Potter - Princ mešane krvi (2009)\\nHarry Potter - Svetinje smrti 1. del (2010)\\nHarry Potter - Svetinje smrti 2. del (2011)\\n\\nGledališke igre\\nHarry Potter and the Cursed Child (2016)\\n\\nVideoigre\\nHarry Potter - Kamen modrosti (2001)\\nHarry Potter - Dvorana skrivnosti (2002)\\nHarry Potter - Jetnik iz Azkabana (2004)\\nHarry Potter - Ognjeni kelih (2005)\\nHarry Potter - Feniksov red (2007)\\nHarry Potter - Princ mešane krvi (2009)\\nin Svetovno prvenstvo v quidditchu\\n\\nHarry Potter and the Deathly Hallows – Part 1(igra) (2010)\\n Harry Potter and the Deathly Hallows – Part 2(igra) (2011)\\n\\nLiki\\nPomembni kraji\\nZunanje povezave\\nUradna spletna stran slovenskih izdaj\\nSpletna šola za zabavo, Virtualna Bradavičarka -  v obstoju že od leta 2001 in edina, ki še vedno uspešno združuje vse ljubitelje Harry Potter knjig v Sloveniji.',\n",
       "  0.6320955941705586),\n",
       " (\"Pisateljica je za svoje delo prejela številne nagrade, med drugim je prva prejela dansko nagrado Hansa Christiana Andersena za književnost, ki jo od leta 2010 podeljujejo za otroška dela, ki najbolje oživljajo duha velikega pravljičarja. Izbrana dela:\\n\\nHarry Potter in kamen modrosti (Harry Potter and the Philosopher's Stone, 1997),\\nHarry Potter in dvorana skrivnosti (Harry Potter and the Chamber of Secrets, 1998),\\nHarry Potter in jetnik iz Azkabana (Harry Potter and the Prisoner of Azkaban, 1999),\\nHarry Potter in ognjeni kelih (Harry Potter and the Goblet of Fire, 2000),\\nQuidditch skozi zgodovino (Quidditch Through the Ages, 2001),\\nMagične živali (Fantastic Beasts and Where to Find Them, 2001),\\nHarry Potter in Feniksov red (Harry Potter and the Order of Phoenix, 2003),\\nHarry Potter in Princ mešane krvi (Harry Potter and the Half-Blood Prince, 2005),\\nHarry Potter in svetinje smrti (Harry Potter and the Deathly Hallows, 2007),\\nPovesti barda Birtcha (The Tales of Beedle the Bard, 2008),\\nNadomestne volitve (The Casual Vacancy, 2012),\\nHarry Potter in otrok prekletstva (Harry Potter and the Cursed Child, 2016) – soavtorstvo z Johnom Tiffanyjem in Jackom Thornom. Sklici\\nViri in literatura\\nRowling, J. K., 2013. Nadomestne volitve. Ljubljana: Mladinska knjiga. (COBISS)\",\n",
       "  0.548249380238336),\n",
       " ('Joanne »Jo« Murray (rojena kot Joanne Rowling, bolje znana pod psevdonimom J. K. Rowling), britanska pisateljica, * 31. julij 1965, Yate, Anglija. Rowling je napisala popularno zbirko Harry Potter, ki obsega osem romanov, in še nekaj knjig, povezanih s čarovniškim svetom Harryja Potterja, med drugim Quidditch skozi zgodovino (Quidditch Through the Ages), Magične živali (Fantastic Beasts and Where to Find Them) in Povesti barda Birtcha (The Tales of Beedle the Bard). Leta 2008 je bila po podatkih seznama najbogatejših revije Sunday Times dvanajsta najbogatejša ženska v Združenem kraljestvu. Poznana je tudi po svojem anti-trans aktivizmu. Leta 2013 objavi prvo delo pod psevdonimom Robert Galbraith. Življenje\\nPo končanem študiju je najprej delala za eno izmed dobrodelnih organizacij, nato pa na Portugalskem učila angleščino. Ko se je vrnila, je na vlaku dobila zamisel za knjige o Harryju Potterju, o katerem je pisala v svojem literarnemu prvencu. Da je napisala prvi roman, je potrebovala pet let, temu pa sta sledili še dve leti zavrnitev, preden je knjiga končno izšla. Kratico J. K. Rowling ji je predlagal založnik, ker se je bal, da dečki ne bodo hoteli brati fantazijskega romana ženske. Pisateljica podpira veliko dobrodelnih akcij, ustanovila je tudi dobrodelno organizacijo Lumos, ki pomaga spremeniti življenje otrokom iz neprivilegiranih okolij. Delo\\nNajbolj znano delo J. K. Rowling je zbirka o Harryju Potterju, ki obsega osem knjig. Po svetu je bilo prodanih prek 450 milijonov izvodov, zbirka pa je prevedena v 74 jezikov. Po romanih je nastala tudi serija osmih filmskih uspešnic.',\n",
       "  0.4460645583906506)]"
      ]
     },
     "execution_count": 35,
     "metadata": {},
     "output_type": "execute_result"
    }
   ],
   "source": [
    "query = 'Kdo je Harry Potter?' #Who is Harry Potter?\n",
    "model_name = 'sentence-transformers/LaBSE'\n",
    "table_name = 'showcase.wiki_chunks_sentences'\n",
    "\n",
    "query_db_cosine(query, model_name, table_name)"
   ]
  },
  {
   "cell_type": "markdown",
   "metadata": {},
   "source": [
    "### Example 2"
   ]
  },
  {
   "cell_type": "code",
   "execution_count": null,
   "metadata": {},
   "outputs": [
    {
     "data": {
      "text/plain": [
       "[('Berlin [berlín] je glavno mesto Nemčije in ena od ', 0.7041109027928665),\n",
       " ('o prestolnica Pruskega kraljestva, Nemškega cesars', 0.6363045573234558),\n",
       " ('etvorbo mesta v svetovno prestolnico Nemčije; te n', 0.6273201107978821),\n",
       " ('gospodarsko središče Nemčije. Kmalu so se razvila ', 0.6257628648563829),\n",
       " ('chstaga je tradicionalni sedež nemškega parlamenta', 0.6006541490164917)]"
      ]
     },
     "execution_count": 29,
     "metadata": {},
     "output_type": "execute_result"
    }
   ],
   "source": [
    "query = 'glavno mesto Nemčije' #the capital of Germany\n",
    "model_name = 'sentence-transformers/LaBSE'\n",
    "table_name = 'showcase.wiki_chunks_fixed_length'\n",
    "query_db_cosine(query, model_name, table_name)"
   ]
  },
  {
   "cell_type": "code",
   "execution_count": null,
   "metadata": {},
   "outputs": [
    {
     "data": {
      "text/plain": [
       "[('Berlin [berlín] je glavno mesto Nemčije in ena od 16 nemških zveznih dežel. S skoraj štirimi milijoni prebivalcev (urbano območje šteje 4,4 milijone) je največje mesto v državi in tudi eno največjih v Evropi. Mesto leži ob rekah Spree, ki se izliva v reko Havel v zahodnem okrožju Spandau. Mesto vključuje jezera v zahodnih in jugovzhodnih okrožjih, med katerimi je največje Jezero Müggelsee. Približno eno tretjino mestnega območja sestavljajo gozdovi, parki in vrtovi, reke, kanali in jezera. Zvezno deželo Berlin teritorialno v celoti obkroža zvezna dežela Brandenburg, skupaj s katero tvori metropolitansko regijo Berlin-Brandenburg z več kot šestimi milijoni ljudi in je druga največja metropolitanska regija v Nemčiji za regijo Rhine-Ruhr in šesta največja metropolitanska regija glede na BDP v Evropski uniji. Prva dokumentirana omemba Berlina datira v 13. stoletje. V svoji zgodovini je bilo prestolnica Pruskega kraljestva, Nemškega cesarstva, Weimarske republike in Tretjega rajha. Število prebivalcev mesta pred drugo svetovno vojno ocenjujejo na 4,7 milijona. Med letoma 1949 in 1990 je bilo mesto razdeljeno na Vzhodni in Zahodni Berlin. Vzhodni Berlin je bil (dejanska) prestolnica Vzhodne Nemčije, zahodni pa eksklava Zahodne, obkrožen z berlinskim zidom. Po združitvi Nemčije je ponovno postalo prestolnica celotne države, kamor se je preselila večina državnih uradov iz dotedanje zahodnonemškega glavnega mesta Bonn. Danes je Berlin eno najpomembnejših kulturnih, političnih, gospodarskih in prometnih središč Evrope. Berlin je sedež več univerz in visokih šol, med katerimi so najbolj znane Humboldtova univerza, Univerza umetnosti, Svobodna univerza in Tehniška univerza.',\n",
       "  0.5090041160583496),\n",
       " ('Najbolj vroč mesec v Berlinu je bil julij 1834 s povprečno temperaturo 23,0 °C, najhladnejši pa januar 1709 s povprečno temperaturo −13,2 °C. Najbolj namočen mesec v zgodovini je bil julij 1907, z 230 milimetri  padavin, medtem ko so bili najbolj suhi oktober 1866, november 1902, oktober 1908 in september 1928, vsi z 1 milimetrom padavin. Mestna pokrajina\\nZgodovina Berlina je mestu zapustila policentrično metropolitansko območje in eklektično mešanico arhitekture. Današnji videz mesta je v veliki meri oblikovala nemška zgodovina 20. stoletja. Zaradi bombardiranja Berlina v drugi svetovni vojni so bile številne stavbe, ki so preživele tako na vzhodu kot na zahodu, v povojnem obdobju porušene. Po ponovni združitvi so bile rekonstruirane številne pomembne dediščinske strukture, kot so Forumom Fridericianum in Berlinska državna opera, palača Charlottenburg, Gendarmenmarkt, Alte Kommandantur in Berlinska palača. Seznam najvišjih stavb v Berlinu se razprostira po mestnem območju, najdemo jih na primer na Potsdamer Platz, City West in Alexanderplatz. Več kot eno tretjino mestnega območja sestavljajo zelene površine, gozdovi in voda. Drugi največji in najbolj priljubljen park v Berlinu, Großer Tiergarten, je v samem središču mesta. Arhitektura\\nFernsehturm (TV stolp) na Alexanderplatzu v Mitteju je s 368 m med najvišjimi stavbami v Evropski uniji. Zgrajen je bila leta 1969 in je viden v večini osrednjih okrožij Berlina. Mesto si lahko ogleda z 204 metrov visokega razglednega dna. Tu se proti vzhodu začenja Karl-Marx-Allee, avenija, obdana z monumentalnimi stanovanjskimi stavbami, zasnovanimi v slogu socialističnega klasicizma. V bližini tega območja je Rotes Rathaus (Rdeča mestna hiša) s svojo značilno arhitekturo iz rdeče opeke.',\n",
       "  0.4684159140834765),\n",
       " ('Upravno je Berlin razdeljen na 12 okrožij (Bezirke), vsako ima svojo lokalno oblast, ki je podrejena mestni vladi. Okrožja se nadalje delijo na 97 krajev (Ortsteile), ki predstavljajo zgodovinske občine ali naselja, ki so bila leta 1920 priključena mestni oblasti. Ti nimajo svojih predstavnikov v vladi, se pa razdelitev upošteva pri urbanističnem načrtovanju in v statistične namene. Berlinska okrožja\\nSedež vlade\\nSchloss Bellevue, Predsednik Nemčije\\nZvezna kancelarija (Bundeskanzleramt), Kancler Nemčije\\nDeutscher Bundestag, Reichstag\\nNemški Bundesrat\\nBundesministerium der Finanzen\\nVeleposlaništvo Republike Slovenije v Nemčiji\\n\\nDemografija\\nS populacijo 3.664.088 души (2020) v svojih upravnih mejah in od 4.700.000 v dejanskem mestnem območju, je Berlin  največje mesto v Nemčiji. Po Brexitu (2020) je Berlin največje mesto EU s 3,85 milijona prebivalcev. Mesto velja za multikulturno mesto, saj v njem prebiva 170 različnih narodnosti (2021). Poleg etnične nemške večine, je v mestu precej priseljenske populacije iz Turčije, Poljske, Italije, Hrvaške, Srbije,  Grčije,  Rusije, Bolgarije, Libanona, Romunije, Bosne in Hercegovine, Španije, Portugalske, Francije, Kitajske, ZDA, Avstrije, Velike Britanije in Indije. Skoraj 20 odstotkov prebivalcev so tuji državljani (2021). Središče Berlina je bil od leta 1747 Großstadt (mesto z najmanj 100.000 prebivalci). Jezik\\nBerlinsko narečje spada v širši sklop severnonemških narečij. V začetku germanskega naseljevanja v 14. st. in naprej se je govoril še jezik, bolj podoben nizozemščini kot visoki nemščini. Do danes je v tem narečju mnogo spodnje- (oziroma nizko-) nemškega, ki ohranjuje stanje pred drugim premikom glasov. nem. was = berlinsko wat = nizozemsko wat = kaj\\nnem. das = berlinsko dit = to\\nnem. Was ist das?',\n",
       "  0.46341249346733093),\n",
       " ('Leta 1920 je zakon o širšem Berlinu vključil na desetine predmestnih mest, vasi in posesti okoli Berlina v razširjeno mesto. Akt je povečal površino Berlina s 66 na 883 km². Število prebivalcev se je skoraj podvojilo in Berlin je imel okoli štiri milijone prebivalcev. Med obdobjem Weimarja je Berlin doživel politične nemire zaradi gospodarskih negotovosti, postal pa je tudi znano središče bučnih dvajsetih let. Metropola je doživela svoj razcvet kot velika svetovna prestolnica in je bila znana po svojih vodilnih vlogah v znanosti, tehnologiji, umetnosti, humanistiki, urbanističnem načrtovanju, filmu, visokem šolstvu, vladi in industriji. Albert Einstein je v letih, ko je bil v Berlinu, dosegel javno prepoznavnost, leta 1921 je prejel Nobelovo nagrado za fiziko. Leta 1933 sta na oblast prišla Adolf Hitler in nacionalsocialistična nemška delavska stranka. Hitlerja je navdihnila arhitektura, ki jo je doživel na Dunaju, in želel si je Nemškega cesarstva z glavnim mestom, ki bi imelo monumentalno celoto. Nacionalsocialistični režim se je v Berlinu lotil monumentalnih gradbenih projektov, da bi z arhitekturo izrazil svojo moč in avtoriteto. Adolf Hitler in Albert Speer sta razvila arhitekturne koncepte za pretvorbo mesta v svetovno prestolnico Nemčije; te niso bile nikoli izvedene. Vladavina NSDAP je zmanjšala berlinsko judovsko skupnost s 160.000 (ena tretjina vseh Judov v državi) na približno 80.000 zaradi emigracije med letoma 1933 in 1939. Po Kristalni noči leta 1938 je bilo na tisoče mestnih Judov zaprtih v bližnjem koncentracijskem taborišču Sachsenhausen.',\n",
       "  0.4173221240831695),\n",
       " ('Leta 1949 je bila v Zahodni Nemčiji ustanovljena Zvezna republika Nemčija, ki je sčasoma vključevala vse ameriško, britansko in francosko cono, razen con teh treh držav v Berlinu, medtem ko je bila v Vzhodni Nemčiji razglašena marksistično-leninistična Nemška demokratična republika. Zahodni Berlin je uradno ostal okupirano mesto, vendar je bil kljub geografski izolaciji Zahodnega Berlina politično povezan z Zvezno republiko Nemčijo. Letalski prevoz do Zahodnega Berlina je bil odobren le ameriškim, britanskim in francoskim letalskim prevoznikom. Ustanovitev obeh nemških držav je povečala napetosti hladne vojne. Zahodni Berlin je bil obdan z vzhodnonemškim ozemljem, vzhodna Nemčija pa je razglasila vzhodni del za svojo prestolnico, česar zahodne sile niso priznale. Vzhodni Berlin je vključeval večino zgodovinskega središča mesta. Zahodnonemška vlada se je ustanovila v Bonnu. Leta 1961 je Vzhodna Nemčija začela graditi berlinski zid okoli zahodnega Berlina, dogodki pa so se stopnjevali do tankovskega spopada pri kontrolni točki Charlie. Zahodni Berlin je bil zdaj de facto del Zahodne Nemčije z edinstvenim pravnim statusom, medtem ko je bil Vzhodni Berlin de facto del Vzhodne Nemčije. John F. Kennedy je imel svoj govor Ich bin ein Berliner 26. junija 1963 pred mestno hišo Schöneberg, ki je v zahodnem delu mesta, in poudaril podporo ZDA Zahodnemu Berlinu. Berlin je bil popolnoma razdeljen. Čeprav je bilo za zahodnjake mogoče preiti na drugo stran prek strogo nadzorovanih kontrolnih točk, je za večino vzhodnjakov potovanje v Zahodni Berlin ali Zahodno Nemčijo prepovedala vlada Vzhodne Nemčije.',\n",
       "  0.41233062744140625)]"
      ]
     },
     "execution_count": 30,
     "metadata": {},
     "output_type": "execute_result"
    }
   ],
   "source": [
    "query = 'glavno mesto Nemčije' #the capital of Germany\n",
    "model_name = 'sentence-transformers/LaBSE'\n",
    "table_name = 'showcase.wiki_chunks_sentences'\n",
    "query_db_cosine(query, model_name, table_name)"
   ]
  },
  {
   "cell_type": "markdown",
   "metadata": {},
   "source": [
    "### Example 3"
   ]
  },
  {
   "cell_type": "code",
   "execution_count": null,
   "metadata": {},
   "outputs": [
    {
     "data": {
      "text/plain": [
       "[(' pop tekstopiscev, country pragmastitko, in dekle,', 0.6770062446594238),\n",
       " ('jljubšo Pop/Rock žensko ustvarjalko«, za »najljubš', 0.628748893737793),\n",
       " ('h Hot 100 in Pop 100 vendar šele po izidu pop remi', 0.5351182381843997),\n",
       " ('ta«, za »pesem leta«, za »najboljši pop nastop« le', 0.5340115705721644),\n",
       " (' je tudi bil njen prvi cel pop album.\\n\\n2017: reput', 0.5023932906144839)]"
      ]
     },
     "execution_count": 52,
     "metadata": {},
     "output_type": "execute_result"
    }
   ],
   "source": [
    "query = 'pop izvajalka' #pop artist\n",
    "model_name = 'sentence-transformers/LaBSE'\n",
    "table_name = 'showcase.wiki_chunks_fixed_length'\n",
    "query_db_cosine(query, model_name, table_name)"
   ]
  },
  {
   "cell_type": "code",
   "execution_count": null,
   "metadata": {},
   "outputs": [
    {
     "data": {
      "text/plain": [
       "[(\"2. decembra 2009 je prejela nominacije za nagrado Grammy v kategorijah: za »založbo leta«, za »pesem leta«, za »najboljši pop nastop« leta (»You Belong with Me«), za »najboljšo žensko pevko leta«, za »najboljšo country pesem leta« (»White Horse«), za »najboljšo pevko leta« (»Breathe«), za »najboljši album leta« (Fearless) in za »najboljši country album leta« (Fearless). Proti koncu leta 2009 jo je revija Associated Press imenovala za »ustvarjalko leta«. Fearless je bil najbolje prodajan album leta 2009 in v ZDA je v enem letu prodal več kot 3,2 milijonov kopij. Pesmi »You Belong With Me« in »Love Story« sta na lestvici Nielsen's BDS Top 10 Most Played Songs dosegli prvo in drugo mesto. Bila je uvrščena tudi na vrh lestvice 2009 Top 10 Artist Airplay in na vrh lestvice Top 10 Artist Internet Streams. 14. julija 2009 so potrdili, da bo Taylor Swift 13. septembra tistega leta nastopala na podelitvi nagrad MTV Video Music Awards. »Tako sem vznemerjena, ker me MTV vabi, da bi nastopala, ker mislim, da bo letošnja podelitev nekaj posebnega!« začne Swiftova. »Naravnost obožujem, ko v nastop vključim tudi nekoliko teatralnosti in MTV to umetnikom vedno dovoli!« je povedala. »Na MTV-ju so tako dobri do mene, ne bi se mogla bolj veseliti tega nastopa, kot se že!« To je povedala, ko je na podelitvi nagrad prejela nagrado MTV Video Music Award. Oddaja je izšla 13. septembra 2009 na MTV-ju z britanskim komedijantom Russellom Brandom, ki je oddajo gostil že drugo leto.\",\n",
       "  0.3093395233154297),\n",
       " (\"Pesem »Two Is Better Than One« banda Boys Like Girls in pesem Johna Mayerja »Half of My Heart« (pri snemanju obeh je sodelovala tudi Taylor Swift) sta na lestvici Top 40 najprej zasedli štirideseto in petindvajseto mesto, kasneje pa še enaindvajseto in dvaindvajseto. Album Fearless je bil tudi najbolje prodajan album v Združenih državah Amerike leta 2009, saj je prodal več kot 3,2 milijona izvodov v tistem letu. Taylor Swift je s pesmimi »You Belong With Me« in »Love Story« dobila prvo in drugo mesto Nielsenove lestvice »BDS-jevih deset največkrat predvajanih pesmi (vseh žanrov)«. Leta 2009 je pristala tudi na vrhu lestvice »prvih deset preko radia največkrat predvajanih glasbenikov«, saj so njene pesmi predvajali okoli 1,29 milijonkrat, in »prvih deset glasbenikov, največkrat predvajanih preko interneta«, kjer so njene pesmi zavrteli okoli šestinštirideset milijonkrat. 2010–2012: Speak Now\\n19. januarja 2010 je izdala svoj novi singl, »Today Was a Fairytale«, ki si ga je mogoče naložiti prek iTunesa. Pesem je tudi soundtrack za film Valentinovo, v katerem igra tudi ona. Zasedla je drugo mesto na lestvici Billboard Hot 100, šesto na Top 10 in triindvajseto mesto na Top 40. Samo v januarju si je pesem prek interneta naložilo več kot 325.000 ljudi. Pesem je dosegla prvo mesto na lestvici Canadian Hot 100, kar je prvi hit Taylor Swift na kanadski lestvici. Taylor Swift je v letu 2010 dobila nagrado People's Choice Award za najboljšo žensko ustvarjalko. V februarju 2010 je potrdila, da bo turnejo Fearless Tour prepeljala še v pet mest v Avstraliji.\",\n",
       "  0.30823454955036256),\n",
       " ('2017: reputation\\nKonec avgusta je izšla prva izmed 15 pesmi iz njenega petega albuma. \"Look What You Made Me Do\" je izšla 24.8.2017, in že takoj imela velik uspeh. Videospot je izšel nekaj dni pozneje (27.8.2017), in v prvih 24. urah dosegel preko 40 milijonov ogledov, kar je trenutni rekord. Naslednja pesem iz albuma je \"...Ready For It? \", sledil je \"Gorgeous\" in \"Call It What You Want\". Album je izšel 10.11.2017. Na albumu je tudi pesem v sodelovanju z znanim raperjem Future, in Ed Sheeran, z naslovom \"End Game\". Stil pisanja pesmi\\nNjen stil pisanja pesmi je avtobiografičen. Nekoč se je izrazila, da je, če poslušaš njene pesmi, »kot da bi bral moj dnevnik«. Naprimer, za pesem »Forever & Always« jo je navdihnilo njeno razmerje z Joejem Jonasom, medtem ko je bila pesem »Hey Stephen« napisana po zgodbi nekega fanta, ki se ji je med snemanjem neke oddaje popolnoma odprl. Pesem »Fifteen« je bila napisana na podlagi izkušenj iz njenega prvega letnika v srednji šoli. Pesmi osebne narave naj bi pritegnile največ pozornosti. Nekoč je Taylor Swift rekla: »Nekoč sem mislila, da se je težko povezati z ljudmi in se jim približati, a zdaj sem ugotovila, da bolj ko so tvoje pesmi osebne narave, bolj si povezan z ljudmi.«\\nDejstvo je, da so njene pesmi avtobiografične, tako da jih njeni oboževalci lahko raziščejo.',\n",
       "  0.30789029598236084),\n",
       " (\"Je najbolj iskana glasbenica na MySpaceu iz leta 2008. Videospot za pesem »Tim McGraw« je dosegel prvo mesto na lestvici CMT-jevih najboljših videospotov. Leta 2007 je Taylor Swift zanj dobila celo nagrado CMT Music Awards v kategoriji za »najboljši preboj«. 15. maja 2007 je s svojo pesmijo »Tim McGraw« nastopala na podelitvi nagrad Academy of Country Music Awards. Pesem je zapela glasbeniku Timu McGrawu. Nastopala je tudi na turneji Tima McGrawa in Faith Hill z naslovom Soul2Soul 2007. Na svoje turneje so jo povabili tudi glasbeniki, kot so George Strait, Brad Paisley in Rascal Flatts. 21. avgusta 2007 je v živo nastopala na oddaji America's Got Talent (Amerika ima talent). Njen naslednji, drugi singl iz albuma Taylor Swift, »Teardrops on My Guitar«, je izšel 24. februarja 2007. Njen izid je bil najprej načrtovan za sredino leta 2007. Pesem je dosela drugo mesto na Billboardovi lestvici Hot Country Songs in triintrideseto na lestvici Billboard Hot 100. Dosegla je tudi mesti na lestvicah Hot 100 in Pop 100 vendar šele po izidu pop remixa pozno leta 2007. Na Pop 100 je dosegla enajsto, na Hot 100 pa trinajsto mesto. Oktobra istega leta ji njeno pisanje pesmi prinese naslov tekstopisca oziroma ustvarjalca leta in s tem postane tudi najmlajša oseba, kar jih je kdaj osvojilo ta naslov. 7. novembra 2007 je Taylor Swift dobila nagrado CMA Horizon Award in na podelitvi teh nagrad zapela pesem »Our Song«, tretji singl iz njenega prvega albuma.\",\n",
       "  0.3007560074329376),\n",
       " ('Pri njenih petnajstih letih je sklenila pogodbo z založbo RCA Records, saj jo je slednja želela uvesti v glasbeni posel. Kasneje je nastopala v Nashvillu skupaj z nekaj drugimi tekstopisci in tako je dobila pozornost Scotta Borchette, ki je kasneje z njo podpisal pogodbo za sodelovanje z založbo Big Machine Records. S štirinajstimi leti je postala najmlajša tekstopiska, kar jih je kdaj najelo podjetje Sony/ATV Tree. 2006–2008: Taylor Swift\\nTaylor Swift je svoj prvi singl »Tim McGraw« izdala v sredini leta 2006 in revija Billboard mu je dodelila šesto mesto na lestvici »Hot Country Songs«. Njen prvi glasbeni album, ki ga je poimenovala po sebi je izšel kasneje, natančneje 24. oktobra tistega leta. Napisala oziroma so-napisala je vse pesmi v njem. Album je dosegel devetnajsto mesto na lestvici Billboard 200 in že v prvem tednu prodajanja prodal 39.000 kopij. Kasneje je dobil prvo mesto na lestvici najboljših country albumov, Top Country Albums po reviji Billboard in peto mesto na Billboard 200. Na vrhu lestvice Top Country Albums je ostal osem tednov zapovrstjo, vsega skupaj pa je bil na vrhu lestvice 24 od 91 tednov. Edini glasbeniki, ki so ostali na tej lestvici čez 20 tednov, so bili poleg nje še The Dixie Chicks in Carrie Underwood. V novembru 2008 si je njen singl naložilo več kot 7,5 milijonov ljudi, prodala pa je več kot 3 milijone kopij. Swiftova je presegla 200 milijonov drugih glasbenih ustvarjalcev na MySpaceu. Trenutno je tam ocenjena med desetimi najboljšimi glasbenimi ustvarjalci vseh zvrsti in vodi na lestvici najboljših country glasbenikov.',\n",
       "  0.30047887563705444)]"
      ]
     },
     "execution_count": 54,
     "metadata": {},
     "output_type": "execute_result"
    }
   ],
   "source": [
    "query = 'pop izvajalka' #pop artist\n",
    "model_name = 'sentence-transformers/LaBSE'\n",
    "table_name = 'showcase.wiki_chunks_sentences'\n",
    "query_db_cosine(query, model_name, table_name)"
   ]
  },
  {
   "cell_type": "markdown",
   "metadata": {},
   "source": [
    "### Example 4"
   ]
  },
  {
   "cell_type": "code",
   "execution_count": null,
   "metadata": {},
   "outputs": [
    {
     "data": {
      "text/plain": [
       "[('ry Potter in otrok prekletstva (Harry Potter and t', 0.43872779607772827),\n",
       " ('Harry Potter je fantazijska pripoved v sedmih knji', 0.4369365312494923),\n",
       " (' maja 2016 mu je slovenski predsednik Borut Pahor ', 0.4350922458011326),\n",
       " ('\\nin Svetovno prvenstvo v quidditchu\\n\\nHarry Potter ',\n",
       "  0.42759148129148783),\n",
       " (' s čarovniškim svetom Harryja Potterja, med drugim', 0.4195674157658349)]"
      ]
     },
     "execution_count": 48,
     "metadata": {},
     "output_type": "execute_result"
    }
   ],
   "source": [
    "query = 'Taylor Swift' \n",
    "model_name = 'sentence-transformers/LaBSE'\n",
    "table_name = 'showcase.wiki_chunks_fixed_length'\n",
    "query_db_cosine(query, model_name, table_name)"
   ]
  },
  {
   "cell_type": "code",
   "execution_count": null,
   "metadata": {},
   "outputs": [
    {
     "data": {
      "text/plain": [
       "[(\"Zgodbe\\nHarry Potter in kamen modrosti (Harry Potter and the Philosopher's Stone) (1997, slovenski prevod 1999, prevajalec Jakob J. Kenda)\\nHarry Potter in dvorana skrivnosti (Harry Potter and the Chamber of Secrets) (1998, slovenski prevod 2000, prevajalec Jakob J. Kenda)\\nHarry Potter in jetnik iz Azkabana (Harry Potter and the Prisoner of Azkaban) (1999, slovenski prevod 2000, prevajalec Jakob J. Kenda)\\nHarry Potter in ognjeni kelih (Harry Potter and the Goblet of Fire) (2000, slovenski prevod 2001, prevajalec Jakob J. Kenda)\\nHarry Potter in Feniksov red (Harry Potter and the Order of the Phoenix) (2003, slovenski prevod 2003, prevajalec Jakob J. Kenda)\\nHarry Potter in Princ mešane krvi (Harry Potter and the Half-Blood Prince) (julij 2005, slovenski prevod 2006, prevajalec Branko Gradišnik (pod naslovom Polkrvni Princ), ponoven prevod - Princ mešane krvi (jesen 2008, prevajalec Jakob J. Kenda)\\nHarry Potter in svetinje smrti (Harry Potter and the Deathly Hallows) (izid originala: 21.7.2007, izid prevoda: 16. februar 2008, prevajalec Jakob J. Kenda, založba Mladinska knjiga)\\nHarry Potter in otrok prekletstva (Harry Potter and the Cursed Child) (izid originala: 31. 7.\",\n",
       "  0.22546375090316084),\n",
       " (\"Pisateljica je za svoje delo prejela številne nagrade, med drugim je prva prejela dansko nagrado Hansa Christiana Andersena za književnost, ki jo od leta 2010 podeljujejo za otroška dela, ki najbolje oživljajo duha velikega pravljičarja. Izbrana dela:\\n\\nHarry Potter in kamen modrosti (Harry Potter and the Philosopher's Stone, 1997),\\nHarry Potter in dvorana skrivnosti (Harry Potter and the Chamber of Secrets, 1998),\\nHarry Potter in jetnik iz Azkabana (Harry Potter and the Prisoner of Azkaban, 1999),\\nHarry Potter in ognjeni kelih (Harry Potter and the Goblet of Fire, 2000),\\nQuidditch skozi zgodovino (Quidditch Through the Ages, 2001),\\nMagične živali (Fantastic Beasts and Where to Find Them, 2001),\\nHarry Potter in Feniksov red (Harry Potter and the Order of Phoenix, 2003),\\nHarry Potter in Princ mešane krvi (Harry Potter and the Half-Blood Prince, 2005),\\nHarry Potter in svetinje smrti (Harry Potter and the Deathly Hallows, 2007),\\nPovesti barda Birtcha (The Tales of Beedle the Bard, 2008),\\nNadomestne volitve (The Casual Vacancy, 2012),\\nHarry Potter in otrok prekletstva (Harry Potter and the Cursed Child, 2016) – soavtorstvo z Johnom Tiffanyjem in Jackom Thornom. Sklici\\nViri in literatura\\nRowling, J. K., 2013. Nadomestne volitve. Ljubljana: Mladinska knjiga. (COBISS)\",\n",
       "  0.2204425519177271),\n",
       " ('Harry Potter je fantazijska pripoved v sedmih knjigah pisateljice J. K. Rowling. Prva knjiga je bila izdana leta 1997, zadnja pa leta 2016. Po seriji je produkcijska hiša Warner Bros posnela tudi filme, Harry Potter in Svetinje smrti je razdeljen na dva dela. Filma o Otroku prekletstva pa niso posneli, ampak si lahko ogledamo predstavo. Knjige o Harryju Potterju so doživele velikanski uspeh, po svetu je bilo prodanih več kot 800 milijonov knjig. V Sloveniji je pri založbi EPTA izšlo prvih pet knjig, pri Mladinski knjigi, ki je od leta 2007 novi slovenski založnik Harryja Potterja, pa ponatisi prevodov prvih petih knjig in prevoda šeste ter sedme.',\n",
       "  0.21588091112248142),\n",
       " ('Igrala je tudi v televizijski seriji Dateline NBC in sicer v epizodi z naslovom Dateline NBC: On Tour With Taylor Swift 31. maja tistega leta. Epizoda je vključevala tudi razne fotografije in posnetke iz njene prve turneje, Fearless Tour. Bila je tudi glasbeni gost v televizijski oddaji Saturday Night Live. Leta 2010 je v kinematografe prišel film Valentinovo z igralci, kot so Julia Roberts, Taylor Lautner, Emma Roberts, Ashton Kutcher, Jennifer Garner, Anne Hathaway, Patrick Dempsey, Jamie Foxx, Bradley Cooper in Jessica Biel. V njem Taylor Swift igra Felicio Miller, za film pa je posnela tudi soundtrack z naslovom »Today Was a Fairytale«. Za vlogo Felicie je leta 2010 dobila nominacijo za nagrado Teen Choice Award v kategoriji za »filmski preboj ženske.«\\n\\nDobrodelna dela\\n21. septembra 2007 je Taylor Swift sodelovala v kampanji za zaščito otrok pred ugrabitelji prek interneta. Povezala se je tudi s tennesseeškim guvernerjem Philom Bredesenom, da bi pomagala pri preprečevanju spolnih zločinov, storjenih preko interneta. Eno leto dolga kampanja je v sodelovanju s policijo Tennesseeja poskušala dajati ustrezne informacije tako staršem kot otrokom. Zgodaj leta 2008 je Taylor Swift donirala nekaj denarja organizaciji Victory Junction Gang; v juniju 2008 je vse svoje prihodke iz glasbenega festivala Country Music Festival darovala Rdečemu križu. Po dobitvi naslovov za »najboljši videospot leta« in »najboljši videospot ženske ustvarjalke leta« na podelitvi nagrad CMT Music Awards leta 2008 je Swiftova donirala 10.000 $ otroški bolnišnici St. Jude. Leta 2009, ko je še enkrat osvojila oba naslova na isti prireditvi, je Rdečemu križu donirala še 5.000 dolarjev.',\n",
       "  0.20598711860410268),\n",
       " ('Do danes je Taylor Swift prodala več kot 10 milijonov albumov po svetu. Zgodnje življenje\\nTaylor Alison Swift je bila rojena in vzgojena v Wyomissingu, Pensilvanija, Združene države Amerike kot hči Scotta Swifta, posrednika nepremičnin in njegove žene Andree (roj. Finlay), gospodinje. Njena babica je bila operna pevka. Ima mlajšega brata Austina. Ko je bila v četrtem razredu je zmagala na nacionalnem tekmovanju poezije, kjer ji je zmago priborila tri strani dolga pesem z naslovom »Monster In My Closet«. Pri desetih letih je Taylor Swift začela s pisanjem pesmi in petjem na karaokah, raznih festivalih in podobno v bližini njenega rojstnega mesta. Ko je imela dvanajst let, je celo poletje zapravila za to, da je napisala 350 strani dolg roman, ki do danes ostaja neobjavljen. Prvič se je na malih televizijskih zaslonih pojavila v oddaji Bloomsburg Fair, kjer je s svojim nastopom navdušila občinstvo. Leta 2008 si je preko šolanja na domu v starosti osemnajst let prislužila diplomo. Interes za pisanje pesmi in zgodnje delo\\nTaylor Swift se je igranja kitare naučila od nekega popravljalca računalnikov, ki ji je pokazal, kako se zaigra tri najlažje akorde. Ko se je slednjih naučila, je napisala svojo prvo pesem in jo naslovila kot »Lucky You«. Kasneje je povedala, da je pesmi začela pisati zato, da je ublažila bolečino, ker se ni vključila v šolo. Dejala je, da so bili »ostali otroci zlobni« do nje, zato je napisala pesmi o njih. Na Taylor Swift naj bi najbolj vplivala Shania Twain.',\n",
       "  0.201840436239192)]"
      ]
     },
     "execution_count": 56,
     "metadata": {},
     "output_type": "execute_result"
    }
   ],
   "source": [
    "query = 'Taylor Swift' \n",
    "model_name = 'sentence-transformers/LaBSE'\n",
    "table_name = 'showcase.wiki_chunks_sentences'\n",
    "query_db_cosine(query, model_name, table_name)"
   ]
  },
  {
   "cell_type": "markdown",
   "metadata": {},
   "source": [
    "### Example 5"
   ]
  },
  {
   "cell_type": "code",
   "execution_count": null,
   "metadata": {},
   "outputs": [
    {
     "data": {
      "text/plain": [
       "[('svetovno prvenstvo v kajak in kanu slalomu v letih', 0.49835270643234253),\n",
       " ('em prvenstvu v smučarskih skokih v Hinterzartnu, k', 0.4718233189530172),\n",
       " ('vil nov slovenski rekord v smučarskih skokih s 245', 0.45445800370478917),\n",
       " ('ša Dončić, slovenski košarkarski reprezentant srbs', 0.4443264305591583),\n",
       " ('kristalni globus ter mali kristalni globus v smuča', 0.43566767148165164)]"
      ]
     },
     "execution_count": 58,
     "metadata": {},
     "output_type": "execute_result"
    }
   ],
   "source": [
    "query = 'smučarski skakalec' #ski jumper\n",
    "model_name = 'sentence-transformers/LaBSE'\n",
    "table_name = 'showcase.wiki_chunks_fixed_length'\n",
    "query_db_cosine(query, model_name, table_name)"
   ]
  },
  {
   "cell_type": "code",
   "execution_count": null,
   "metadata": {},
   "outputs": [
    {
     "data": {
      "text/plain": [
       "[('Peter Prevc, slovenski smučarski skakalec, * 20. september 1992, Kranj. Z velikih tekmovanj ima Peter Prevc pet posamičnih kolajn in eno ekipno. Kot tretji Slovenec je osvojil mali kristalni globus v skupnem seštevku smučarskih poletov. Po Jožetu Šlibarju je 14. februarja 2015 kot drugi slovenski skakalec postavil nov svetovni rekord s poletom dolgim 250 m in postal prvi v zgodovini, ki je preletel 250 metrov. V sezoni 2015/16 je osvojil veliki kristalni globus ter mali kristalni globus v smučarskih poletih, zmagal na Novoletni skakalni turneji ter dosegel veliko ostalih rekordov (število zbranih točk, stopničk in zmag v eni sezoni). Po izboru Ameriške športne akademije je bil izbran za ameriškega športnika meseca marca 2016, prav tako pa je končal na tretjem mestu ameriškega športnika leta 2016. Kariera\\n2009: Debi v svetovnem pokalu\\nLeta 2009 je Prevc debitiral na tekmi v Lillehammerju, kjer je že takoj osvojil točke svetovnega pokala. Januarja 2010 je nastopil na mladinskem svetovnem prvenstvu v smučarskih skokih v Hinterzartnu, kjer je osvojil srebrno medaljo in dokazal, da gre resnično za velik skakalni up. Mnogi so ga že pred sezono označevali za svetlo prihodnost slovenskega skakanja in zagotovil si je tudi normo na Zimskih olimpijskih igrah 2010 v Vancouvru, kjer je na srednji skakalnici osvojil sedmo mesto, na veliki pa je bil 16 mesto, obe zlati medalji je osvojil švicar Simon Ammann. Nastopil je tudi na ekipni tekmi, kjer je skupaj s Primožem Piklom, Mitjo Mežnarjem in Robertom Kranjcem osvojil osmo mesto, zlato medaljo je osvojila ekipa Avstrije.',\n",
       "  0.41384313024025454),\n",
       " ('Za konec sezone je zmagal še na tekmi svetovnega pokala na prenovljeni Bloudkovi velikanki z novim rekordom 142 metrov. V skupnem seštevku svetovnega pokala je končal na 2. mestu za Kamilom Stochom. Leta 2014 je bil že drugič zapored imenovan za Slovenskega športnika leta. 2015: Svetovni rekord\\nNa novoletni turneji je skupno končal na tretjem mestu. V tej sezoni je trikrat zmagal. 13. februarja 2015 je na kvalifikacijah pred tekmo svetovnega pokala na poletih v Vikersundu postavil nov slovenski rekord v smučarskih skokih s 245,5 metri, dan kasneje pa je v finalni seriji zmagal z novim svetovnim rekordom 250 metrov, ter tako kot drugi Slovenec s svetovnim rekordom po Jožetu Šlibarju. Rekord je veljal le en dan, kajti na nedeljski tekmi ga je z 251,5 metri izboljšal Anders Fannemel. Na svetovnem prvenstvu na Falunu v Švedski ni osvojil medalje, je pa bil blizu. Na koncu sezone se je izenačil v svetovnem pokalu po številu točk s Severinom Freundom, kar je bilo prvič v svetovnem pokalu ko sta imela dva skakalca enako točk v svetovnem pokalu. A je Freund zmagal devetkrat, Prevc trikrat in se moral zadovoljiti z drugim mestom v skupnem seštevku svetovnega pokala. Na koncu je osvojil svoj drugi mali kristalni globus v poletih. To sezono je zmagal je v Saporu, Vikersundu in Planici. Na prvi tekmi v Planici je prvi seriji z 248,5 metrov skočil rekord letalnice bratov Gorišek v drugi seriji pa postal eden izmed tistih skakalcev, ki so dobili petkrat dvajset od sodnikov.',\n",
       "  0.3638112246990204),\n",
       " ('Na SP v nordijskem smučanju 2013 v Val di Fiemme, kjer je osvojil prvo medaljo na svetovnih prvenstvih, je na veliki skakalnici osvojil srebrno medaljo, na srednji pa bronasto. Na koncu sezone je z drugim mestom na poletih v Planici osvojil še prve stopničke posamično, enkrat je bil drugi enkrat pa tretji. Na koncu je končal na osmem mestu skupnega seštevka svetovnega pokala. V poletih je bil peti, na novoletni turneji je končal na nehvaležnem četrtem mestu. Bil je imenovan za slovenskega športnika leta 2013. 2014: Prvi mali globus\\nV sezoni 2014 mu je uspelo osvojiti mali kristalni globus v poletih z drugim mestom in svojo prvo zmago v svetovnem pokalu na edinih tekmah sezone v poletih na letalnici Kulm v Tauplitzu. To je bil že četrti za Slovenijo. Enega je osvojil Primož Peterka, dva pa Robert Kranjec. Po svoji drugi zmagi v svetovnem pokalu v karieri v Saporu je postal je prvič oblekel rumeno majico vodilnega v svetovnem pokalu. 9. februarja 2014 je na Zimskih olimpijskih igrah v ruskem Sočiju na posamični tekmi na srednji skakalnici osvojil srebrno medaljo, kar je prva slovenska posamična olimpijska medalja na srednji skakalnici, 15. februarja 2014 pa je na veliki skakalnici osvojil še bronasto medaljo in s tem postal drugi Slovenec, ki je osvojil posamično medaljo na olimpijskih igrah in prvi, ki je na olimpijskih igrah osvojil dve posamični medalji. Na svojem premiernem nastopu na SP v poletih v Harrachovu 2014 je po dveh serijah osvojil bronasto medaljo.',\n",
       "  0.3540920615196228),\n",
       " ('Ljubljana je v svoji zgodovini gostila več odmevnih športnih prireditev, tudi svetovno prvenstvo v športni gimnastiki v letih 1922 in 1970, svetovno prvenstvo v košarki leta 1970, svetovno prvenstvo v umetnostnem drsanju leta 1970, svetovno prvenstvo v hokeju na ledu elitne divizije leta 1966 in še osemkrat prvenstvo druge divizije, evropsko prvenstvo v rokometu leta 2004 ter svetovno prvenstvo v kajak in kanu slalomu v letih 1955, 1991 in 2010. Leta 2013 se je v mestu odvijalo Evropsko prvenstvo v košarki. Od leta 1957 je drugi teden v maju v počastitev osvoboditve Ljubljane (9. maj 1945) organiziran Pohod po poti spominov in tovarištva (znan tudi kot pohod ob žici). Vsako leto od 1996 naprej zadnjo nedeljo v oktobru Ljubljanski maraton na mestne ulice pritegne več tisoč tekačev. Center Ljubljane leži med dvema manjšima vzpetinama, Rožnikom z dvema vrhovoma (Cankarjev Vrh-Rožnik, 394 m, Šišenski hrib, 429 m) in Grajskim gričem (366 m), na katerem stoji Ljubljanski grad. Na obrobju mesta so hribi Šmarna gora, Rašica, Golovec, Toško čelo, malo dlje pa še Krim in vrhovi Polhograjskega hribovja, ki ponujajo kratke izlete v naravo. (glej tudi Izleti v okolici Ljubljane). Prometna infrastruktura\\nLjubljana je v središču slovenskega cestnega omrežja, ki preko avtocestnega obroča povezuje mesto z vsemi deli države in pomembnimi mesti v okolici (avtocestna povezava s Trstom, Benetkami ter Reko na jugozahodu (A1/E70); z Mariborom, Gradcem in Dunajem (A1/E57); z Zagrebom in naprej v nekdanjo Jugoslavijo (A2-E70); s Celovcem in Salzburgom na severozahodu (A2-E61), zaradi česar je pomembna vstopna točka za severnoevropske turiste.',\n",
       "  0.3511681049365941),\n",
       " ('V tej sezoni je dosegel rekord največjega povprečja točk na tekmo 79,41 in prednost pred drugouvrščenim v skupnem seštevku svetovnega pokala, in sicer 813 točk. Po številu zaporednih stopničk je drugi za Janneom Ahonenom. V zakletem Finskem so se mu stopničke spet izmuznile na. V Planici je na vseh treh tekmah stal na stopničkah skupaj z rojakom Robertom Kranjcem, od tega je dvakrat zmagal. V Willigenu in Bischofshofenu je postal prvi Slovenec, ki je zmagal na teh skakalnicah. Bil je imenovan za skakalca sezone, njegov mlajši brat Domen za zvezdo v vzponu, trener Goran pa za trenerja sezone. 24. maja 2016 mu je slovenski predsednik Borut Pahor podelil zlati red za zasluge Republike Slovenije za »izjemne športne dosežke, prispevek k uveljavljanju Slovenije na svetovnem športnem prizorišču in navdih mladim.«\\n\\n2017: Prva večja kriza v njegovi karieri\\n25. novembra v Ruki na prvi tekmi sezone 2016/17, je tretjim mestom prišel do svoje jubilejne, petdesete uvrstitve na zmagovalni oder in to s padcem pri drugem skoku, potem ko je po prvem celo vodil. Po tem padcu je zapadel v manjšo krizo. Težava naj bi bila v njegovem počepu, ki mu zmanjša vzletno hitrost in posledično v samem odskoku. Pred nadaljevanjem sezone, 13. decembra, je še četrtič zapored prejel priznanje za slovenskega športnika leta, za leto 2016 ga je na prireditvi v Cankarjevem domu prejel od nekdanje atletinje Brigite Bukovec.',\n",
       "  0.3470867872238159)]"
      ]
     },
     "execution_count": 59,
     "metadata": {},
     "output_type": "execute_result"
    }
   ],
   "source": [
    "query = 'smučarski skakalec' #ski jumper\n",
    "model_name = 'sentence-transformers/LaBSE'\n",
    "table_name = 'showcase.wiki_chunks_sentences'\n",
    "query_db_cosine(query, model_name, table_name)"
   ]
  },
  {
   "cell_type": "markdown",
   "metadata": {},
   "source": [
    "### Example 6"
   ]
  },
  {
   "cell_type": "code",
   "execution_count": 50,
   "metadata": {},
   "outputs": [
    {
     "data": {
      "text/plain": [
       "[('ry Potter in otrok prekletstva (Harry Potter and t', 0.43872779607772827),\n",
       " ('Harry Potter je fantazijska pripoved v sedmih knji', 0.4369365312494923),\n",
       " (' maja 2016 mu je slovenski predsednik Borut Pahor ', 0.4350922458011326),\n",
       " ('\\nin Svetovno prvenstvo v quidditchu\\n\\nHarry Potter ',\n",
       "  0.42759148129148783),\n",
       " (' s čarovniškim svetom Harryja Potterja, med drugim', 0.4195674157658349)]"
      ]
     },
     "execution_count": 50,
     "metadata": {},
     "output_type": "execute_result"
    }
   ],
   "source": [
    "query = 'potpouuri' \n",
    "model_name = 'sentence-transformers/LaBSE'\n",
    "table_name = 'showcase.wiki_chunks_fixed_length'\n",
    "query_db_cosine(query, model_name, table_name)"
   ]
  },
  {
   "cell_type": "code",
   "execution_count": 51,
   "metadata": {},
   "outputs": [
    {
     "data": {
      "text/plain": [
       "[('Harry Potter je fantazijska pripoved v sedmih knjigah pisateljice J. K. Rowling. Prva knjiga je bila izdana leta 1997, zadnja pa leta 2016. Po seriji je produkcijska hiša Warner Bros posnela tudi filme, Harry Potter in Svetinje smrti je razdeljen na dva dela. Filma o Otroku prekletstva pa niso posneli, ampak si lahko ogledamo predstavo. Knjige o Harryju Potterju so doživele velikanski uspeh, po svetu je bilo prodanih več kot 800 milijonov knjig. V Sloveniji je pri založbi EPTA izšlo prvih pet knjig, pri Mladinski knjigi, ki je od leta 2007 novi slovenski založnik Harryja Potterja, pa ponatisi prevodov prvih petih knjig in prevoda šeste ter sedme.',\n",
       "  0.37090433749271456),\n",
       " ('2016, izid prevoda: 23.11.2016, prevajalec: Jakob J. Kenda, založba Mladinska knjiga)\\n\\nFilmi\\nHarry Potter - Kamen modrosti (2001)\\nHarry Potter - Dvorana skrivnosti (2002)\\nHarry Potter - Jetnik iz Azkabana (2004)\\nHarry Potter - Ognjeni kelih (2005)\\nHarry Potter - Feniksov red (2007)\\nHarry Potter - Princ mešane krvi (2009)\\nHarry Potter - Svetinje smrti 1. del (2010)\\nHarry Potter - Svetinje smrti 2. del (2011)\\n\\nGledališke igre\\nHarry Potter and the Cursed Child (2016)\\n\\nVideoigre\\nHarry Potter - Kamen modrosti (2001)\\nHarry Potter - Dvorana skrivnosti (2002)\\nHarry Potter - Jetnik iz Azkabana (2004)\\nHarry Potter - Ognjeni kelih (2005)\\nHarry Potter - Feniksov red (2007)\\nHarry Potter - Princ mešane krvi (2009)\\nin Svetovno prvenstvo v quidditchu\\n\\nHarry Potter and the Deathly Hallows – Part 1(igra) (2010)\\n Harry Potter and the Deathly Hallows – Part 2(igra) (2011)\\n\\nLiki\\nPomembni kraji\\nZunanje povezave\\nUradna spletna stran slovenskih izdaj\\nSpletna šola za zabavo, Virtualna Bradavičarka -  v obstoju že od leta 2001 in edina, ki še vedno uspešno združuje vse ljubitelje Harry Potter knjig v Sloveniji.',\n",
       "  0.37070220708847046),\n",
       " (\"Zgodbe\\nHarry Potter in kamen modrosti (Harry Potter and the Philosopher's Stone) (1997, slovenski prevod 1999, prevajalec Jakob J. Kenda)\\nHarry Potter in dvorana skrivnosti (Harry Potter and the Chamber of Secrets) (1998, slovenski prevod 2000, prevajalec Jakob J. Kenda)\\nHarry Potter in jetnik iz Azkabana (Harry Potter and the Prisoner of Azkaban) (1999, slovenski prevod 2000, prevajalec Jakob J. Kenda)\\nHarry Potter in ognjeni kelih (Harry Potter and the Goblet of Fire) (2000, slovenski prevod 2001, prevajalec Jakob J. Kenda)\\nHarry Potter in Feniksov red (Harry Potter and the Order of the Phoenix) (2003, slovenski prevod 2003, prevajalec Jakob J. Kenda)\\nHarry Potter in Princ mešane krvi (Harry Potter and the Half-Blood Prince) (julij 2005, slovenski prevod 2006, prevajalec Branko Gradišnik (pod naslovom Polkrvni Princ), ponoven prevod - Princ mešane krvi (jesen 2008, prevajalec Jakob J. Kenda)\\nHarry Potter in svetinje smrti (Harry Potter and the Deathly Hallows) (izid originala: 21.7.2007, izid prevoda: 16. februar 2008, prevajalec Jakob J. Kenda, založba Mladinska knjiga)\\nHarry Potter in otrok prekletstva (Harry Potter and the Cursed Child) (izid originala: 31. 7.\",\n",
       "  0.3446037471294403),\n",
       " ('Joanne »Jo« Murray (rojena kot Joanne Rowling, bolje znana pod psevdonimom J. K. Rowling), britanska pisateljica, * 31. julij 1965, Yate, Anglija. Rowling je napisala popularno zbirko Harry Potter, ki obsega osem romanov, in še nekaj knjig, povezanih s čarovniškim svetom Harryja Potterja, med drugim Quidditch skozi zgodovino (Quidditch Through the Ages), Magične živali (Fantastic Beasts and Where to Find Them) in Povesti barda Birtcha (The Tales of Beedle the Bard). Leta 2008 je bila po podatkih seznama najbogatejših revije Sunday Times dvanajsta najbogatejša ženska v Združenem kraljestvu. Poznana je tudi po svojem anti-trans aktivizmu. Leta 2013 objavi prvo delo pod psevdonimom Robert Galbraith. Življenje\\nPo končanem študiju je najprej delala za eno izmed dobrodelnih organizacij, nato pa na Portugalskem učila angleščino. Ko se je vrnila, je na vlaku dobila zamisel za knjige o Harryju Potterju, o katerem je pisala v svojem literarnemu prvencu. Da je napisala prvi roman, je potrebovala pet let, temu pa sta sledili še dve leti zavrnitev, preden je knjiga končno izšla. Kratico J. K. Rowling ji je predlagal založnik, ker se je bal, da dečki ne bodo hoteli brati fantazijskega romana ženske. Pisateljica podpira veliko dobrodelnih akcij, ustanovila je tudi dobrodelno organizacijo Lumos, ki pomaga spremeniti življenje otrokom iz neprivilegiranih okolij. Delo\\nNajbolj znano delo J. K. Rowling je zbirka o Harryju Potterju, ki obsega osem knjig. Po svetu je bilo prodanih prek 450 milijonov izvodov, zbirka pa je prevedena v 74 jezikov. Po romanih je nastala tudi serija osmih filmskih uspešnic.',\n",
       "  0.32822276139923234),\n",
       " (\"Pisateljica je za svoje delo prejela številne nagrade, med drugim je prva prejela dansko nagrado Hansa Christiana Andersena za književnost, ki jo od leta 2010 podeljujejo za otroška dela, ki najbolje oživljajo duha velikega pravljičarja. Izbrana dela:\\n\\nHarry Potter in kamen modrosti (Harry Potter and the Philosopher's Stone, 1997),\\nHarry Potter in dvorana skrivnosti (Harry Potter and the Chamber of Secrets, 1998),\\nHarry Potter in jetnik iz Azkabana (Harry Potter and the Prisoner of Azkaban, 1999),\\nHarry Potter in ognjeni kelih (Harry Potter and the Goblet of Fire, 2000),\\nQuidditch skozi zgodovino (Quidditch Through the Ages, 2001),\\nMagične živali (Fantastic Beasts and Where to Find Them, 2001),\\nHarry Potter in Feniksov red (Harry Potter and the Order of Phoenix, 2003),\\nHarry Potter in Princ mešane krvi (Harry Potter and the Half-Blood Prince, 2005),\\nHarry Potter in svetinje smrti (Harry Potter and the Deathly Hallows, 2007),\\nPovesti barda Birtcha (The Tales of Beedle the Bard, 2008),\\nNadomestne volitve (The Casual Vacancy, 2012),\\nHarry Potter in otrok prekletstva (Harry Potter and the Cursed Child, 2016) – soavtorstvo z Johnom Tiffanyjem in Jackom Thornom. Sklici\\nViri in literatura\\nRowling, J. K., 2013. Nadomestne volitve. Ljubljana: Mladinska knjiga. (COBISS)\",\n",
       "  0.300171434879303)]"
      ]
     },
     "execution_count": 51,
     "metadata": {},
     "output_type": "execute_result"
    }
   ],
   "source": [
    "query = 'potpouuri'\n",
    "model_name = 'sentence-transformers/LaBSE'\n",
    "table_name = 'showcase.wiki_chunks_sentences'\n",
    "query_db_cosine(query, model_name, table_name)"
   ]
  }
 ],
 "metadata": {
  "kernelspec": {
   "display_name": "Python 3",
   "language": "python",
   "name": "python3"
  },
  "language_info": {
   "codemirror_mode": {
    "name": "ipython",
    "version": 3
   },
   "file_extension": ".py",
   "mimetype": "text/x-python",
   "name": "python",
   "nbconvert_exporter": "python",
   "pygments_lexer": "ipython3",
   "version": "3.10.0"
  }
 },
 "nbformat": 4,
 "nbformat_minor": 4
}
